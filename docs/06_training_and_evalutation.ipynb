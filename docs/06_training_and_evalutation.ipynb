{
 "cells": [
  {
   "cell_type": "markdown",
   "metadata": {},
   "source": [
    "# Reproducing the baseline model results from the paper <a class=\"tocSkip\">"
   ]
  },
  {
   "cell_type": "markdown",
   "metadata": {
    "toc": true
   },
   "source": [
    "<h1>Table of Contents<span class=\"tocSkip\"></span></h1>\n",
    "<div class=\"toc\"><ul class=\"toc-item\"><li><span><a href=\"#Download-the-ACME-dataset-used\" data-toc-modified-id=\"Download-the-ACME-dataset-used-1\"><span class=\"toc-item-num\">1&nbsp;&nbsp;</span>Download the ACME dataset used</a></span></li><li><span><a href=\"#Fit-all-the-models\" data-toc-modified-id=\"Fit-all-the-models-2\"><span class=\"toc-item-num\">2&nbsp;&nbsp;</span>Fit all the models</a></span></li><li><span><a href=\"#Evaluate-the-models-and-produce-results-tables-and-figures\" data-toc-modified-id=\"Evaluate-the-models-and-produce-results-tables-and-figures-3\"><span class=\"toc-item-num\">3&nbsp;&nbsp;</span>Evaluate the models and produce results tables and figures</a></span></li></ul></div>"
   ]
  },
  {
   "cell_type": "markdown",
   "metadata": {},
   "source": [
    "tl;dr: run the grid searches (all commands in `experiments.txt`), then run the evaluation with `baselines/eval_task.py`."
   ]
  },
  {
   "cell_type": "markdown",
   "metadata": {},
   "source": [
    "# Download the ACME dataset used"
   ]
  },
  {
   "cell_type": "markdown",
   "metadata": {},
   "source": [
    "1. Go to https://github.com/JamesOwers/acme, select the version tag required, and extract the zip into the root directory of the repo\n",
    "1. you should now have the directory structure:\n",
    "```\n",
    "midi_degradation_toolkit\n",
    "    mdtk\n",
    "    baselines\n",
    "    ...\n",
    "    acme\n",
    "        altered\n",
    "        clean\n",
    "        ...\n",
    "        valid_pr_corpus.csv\n",
    "```"
   ]
  },
  {
   "cell_type": "markdown",
   "metadata": {},
   "source": [
    "# Fit all the models"
   ]
  },
  {
   "cell_type": "markdown",
   "metadata": {},
   "source": [
    "1. To fit all the models, run all of the commands contained within the file\n",
    "[`experiment.txt`](./experiment.txt). These are all python commands which\n",
    "expect you to have installed the package.\n",
    "1. we recommend running from the base directory and saving the outputs to\n",
    "a folder there. For example, to run the first 5 experiments:\n",
    "```\n",
    "repo_dir=..\n",
    "cd $repo_dir\n",
    "head -5 baselines/experiment.txt | bash\n",
    "```\n",
    "1. You should now have a folder `$repo_dir/output` which contains\n",
    "subdirectories with the name of each task\n",
    "1. in each subdirectory, there are model checkpoint files and the\n",
    "training log\n",
    "1. Tip: if you want to save the results somewhere else, edit\n",
    "`experiment.txt` using `sed`:\n",
    "```\n",
    "sed -i 's_output_some/other/place_g' baselines/experiment.txt\n",
    "```\n",
    "1. Tip: we used distributed computing with `slurm` (approx 20 experiments at\n",
    "a time) to run our experiments in parallel. Each node had a GPU. In this\n",
    "setting, it took about 1 day to run all the experiments in\n",
    "`experiment.txt`"
   ]
  },
  {
   "cell_type": "markdown",
   "metadata": {},
   "source": [
    "# Evaluate the models and produce results tables and figures"
   ]
  },
  {
   "cell_type": "markdown",
   "metadata": {},
   "source": [
    "You can produce plots and tables from experiments that have been run by running\n",
    "[`./baselines/get_results.py`]:\n",
    "1. Assuming you now have an directory structure as outlined above\n",
    "and you ran all the experiments in `experiment.txt`, you can run\n",
    "the following command to produce all the plots and results tables\n",
    "```bash\n",
    "python ./baselines/get_results.py \\\n",
    "    --output_dir output \\\n",
    "    --save_plots output \\\n",
    "    --in_dir acme \\\n",
    "    --task_names task1 task1weighted task2 task3 task3weighted task4 \\\n",
    "    --setting_names \"['lr','wd','hid']\" \"['lr','wd','hid']\" \"['lr','wd','hid']\" \"['lr','wd','hid']\" \"['lr','wd','hid']\" \"['lr','wd','hid','lay']\" \\\n",
    "    --formats command command command pianoroll pianoroll pianoroll \\\n",
    "    --seq_len 1000 1000 1000 250 250 250 \\\n",
    "    --metrics rev_f rev_f avg_acc f f helpfulness \\\n",
    "    --task_desc ErrorDetection ErrorDetection ErrorClassification ErrorLocation ErrorLocation ErrorCorrection \\\n",
    "    --splits train valid test\n",
    "```\n",
    "1. This will load the models and perform evaluation, so it is again\n",
    "recommended that you execute the above command with GPU availability\n",
    "1. Observe the results!\n",
    "    * The output directory now contains additional plots and tables\n",
    "    * For example:\n",
    "    ```\n",
    "    output\n",
    "        task1__all_loss_summary.pdf  <- all of the loss curves in one plot\n",
    "        task1__best_model_loss.pdf   <- the loss curves for the best model\n",
    "        task1__min_loss_summary.pdf  <- of all models, a summary of the minimum\n",
    "                                        validation losses they attained over\n",
    "                                        each setting\n",
    "        task1_table.tex              <- full results for train vaild test split\n",
    "        ...\n",
    "        summary_table.tex            <- superset of table in the paper\n",
    "    ```"
   ]
  }
 ],
 "metadata": {
  "kernelspec": {
   "display_name": "Python 3",
   "language": "python",
   "name": "python3"
  },
  "language_info": {
   "codemirror_mode": {
    "name": "ipython",
    "version": 3
   },
   "file_extension": ".py",
   "mimetype": "text/x-python",
   "name": "python",
   "nbconvert_exporter": "python",
   "pygments_lexer": "ipython3",
   "version": "3.8.5"
  },
  "toc": {
   "base_numbering": 1,
   "nav_menu": {},
   "number_sections": true,
   "sideBar": true,
   "skip_h1_title": false,
   "title_cell": "Table of Contents",
   "title_sidebar": "Contents",
   "toc_cell": true,
   "toc_position": {},
   "toc_section_display": true,
   "toc_window_display": false
  }
 },
 "nbformat": 4,
 "nbformat_minor": 4
}
