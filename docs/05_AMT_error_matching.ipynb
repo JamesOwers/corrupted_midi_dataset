{
 "cells": [
  {
   "cell_type": "markdown",
   "metadata": {},
   "source": [
    "# AMT Error Matching <a class=\"tocSkip\">"
   ]
  },
  {
   "cell_type": "markdown",
   "metadata": {
    "toc": true
   },
   "source": [
    "<h1>Table of Contents<span class=\"tocSkip\"></span></h1>\n",
    "<div class=\"toc\"><ul class=\"toc-item\"><li><span><a href=\"#Creating-dummy-transcription-data\" data-toc-modified-id=\"Creating-dummy-transcription-data-1\"><span class=\"toc-item-num\">1&nbsp;&nbsp;</span>Creating dummy transcription data</a></span><ul class=\"toc-item\"><li><span><a href=\"#Create-a-small-ACME-dataset\" data-toc-modified-id=\"Create-a-small-ACME-dataset-1.1\"><span class=\"toc-item-num\">1.1&nbsp;&nbsp;</span>Create a small ACME dataset</a></span></li><li><span><a href=\"#Load-the-ACME-Metadata\" data-toc-modified-id=\"Load-the-ACME-Metadata-1.2\"><span class=\"toc-item-num\">1.2&nbsp;&nbsp;</span>Load the ACME Metadata</a></span></li><li><span><a href=\"#Create-parallel-ground-truth-and-&quot;AMT-output&quot;\" data-toc-modified-id=\"Create-parallel-ground-truth-and-&quot;AMT-output&quot;-1.3\"><span class=\"toc-item-num\">1.3&nbsp;&nbsp;</span>Create parallel ground truth and \"AMT output\"</a></span></li></ul></li><li><span><a href=\"#Run-the-Measure-Errors-script\" data-toc-modified-id=\"Run-the-Measure-Errors-script-2\"><span class=\"toc-item-num\">2&nbsp;&nbsp;</span>Run the Measure Errors script</a></span></li><li><span><a href=\"#Examples\" data-toc-modified-id=\"Examples-3\"><span class=\"toc-item-num\">3&nbsp;&nbsp;</span>Examples</a></span><ul class=\"toc-item\"><li><span><a href=\"#Pitch-shift-errors\" data-toc-modified-id=\"Pitch-shift-errors-3.1\"><span class=\"toc-item-num\">3.1&nbsp;&nbsp;</span>Pitch shift errors</a></span></li><li><span><a href=\"#Time-shift-errors\" data-toc-modified-id=\"Time-shift-errors-3.2\"><span class=\"toc-item-num\">3.2&nbsp;&nbsp;</span>Time shift errors</a></span></li></ul></li><li><span><a href=\"#Creating-a-Custom-ACME-Dataset-to-match-your-AMT-output\" data-toc-modified-id=\"Creating-a-Custom-ACME-Dataset-to-match-your-AMT-output-4\"><span class=\"toc-item-num\">4&nbsp;&nbsp;</span>Creating a Custom ACME Dataset to match your AMT output</a></span></li><li><span><a href=\"#Input-file-types\" data-toc-modified-id=\"Input-file-types-5\"><span class=\"toc-item-num\">5&nbsp;&nbsp;</span>Input file types</a></span></li><li><span><a href=\"#Command-line-arguments\" data-toc-modified-id=\"Command-line-arguments-6\"><span class=\"toc-item-num\">6&nbsp;&nbsp;</span>Command line arguments</a></span></li></ul></div>"
   ]
  },
  {
   "cell_type": "markdown",
   "metadata": {},
   "source": [
    "We provide the `measure_errors` script to match the proportion of errors present\n",
    "in a given set of transcriptions.\n",
    "\n",
    "The script outputs a `config.json` file which can either be passed to the\n",
    "`make_dataset` script to create a static ACME dataset of the given proportions,\n",
    "or it can be used to instantiate a `Degrader`, which can create degraded data\n",
    "on-the-fly."
   ]
  },
  {
   "cell_type": "code",
   "execution_count": 1,
   "metadata": {},
   "outputs": [],
   "source": [
    "import json\n",
    "import os\n",
    "import shutil\n",
    "import sys\n",
    "\n",
    "import pandas as pd\n",
    "from tqdm import tqdm\n",
    "\n",
    "from mdtk.degradations import DEGRADATIONS\n",
    "from mdtk.fileio import csv_to_df\n",
    "from utils import plot_from_df"
   ]
  },
  {
   "cell_type": "markdown",
   "metadata": {},
   "source": [
    "# Creating dummy transcription data\n",
    "\n",
    "## Create a small ACME dataset\n",
    "\n",
    "We'll first create a small ACME dataset using only the PianoMidi data. We're going to pretend that the degraded output from the dataset is the \"transcribed\" data you are wanting to match the errors of."
   ]
  },
  {
   "cell_type": "code",
   "execution_count": 2,
   "metadata": {
    "tags": []
   },
   "outputs": [
    {
     "name": "stdout",
     "output_type": "stream",
     "text": [
      "Setting random seed to 42.\n",
      "Loading data from downloaders, this could take a while...\n",
      "Copying midi to /home/mcleod/.mdtk_cache/PianoMidi/data: 100%|█| 328/328 [00:00<\n",
      "Loading data from PianoMidi: 100%|████████████| 328/328 [00:33<00:00,  9.73it/s]\n",
      "Degrading data: 100%|████████████████████████| 328/328 [00:02<00:00, 118.73it/s]\n",
      "\n",
      "========== Finished! ==========\n",
      "\n",
      "Count of degradations:\n",
      "\t* none: 36\n",
      "\t* pitch_shift: 37\n",
      "\t* time_shift: 37\n",
      "\t* onset_shift: 36\n",
      "\t* offset_shift: 36\n",
      "\t* remove_note: 37\n",
      "\t* add_note: 36\n",
      "\t* split_note: 37\n",
      "\t* join_notes: 36\n",
      "\n",
      "You will find the generated data at /home/mcleod/workspace/midi_degradation_toolkit/docs/acme with subdirectories\n",
      "\t* clean - contains the extracted clean excerpts\n",
      "\t* altered - contains the excerpts altered by the degradations described in metadata.csv\n",
      "\n",
      "metadata.csv describes:\n",
      "\t* (the id number for) the type of degradation used for the alteration\n",
      "\t* the path for the altered and clean files\n",
      "\t* which split (train, valid, test) the file should be used in\n",
      "\t* in which corpus and on what line the file is located\n",
      "\n",
      "degradation_ids.csv is a mapping of degradation name to the id number used in metadata.csv\n",
      "\n",
      "To reproduce this dataset again, run the script with argument --seed 42\n",
      "            _____        ______   _____        _                 _\n",
      "     /\\   / ____|  \\/  |  ____|  |  __ \\      | |               | |  \n",
      "    /  \\ | |    | \\  / | |__     | |  | | __ _| |_ __ _ ___  ___| |_ \n",
      "   / /\\ \\| |    | |\\/| |  __|    | |  | |/ _` | __/ _` / __|/ _ \\ __|\n",
      "  / ____ \\ |____| |  | | |____   | |__| | (_| | || (_| \\__ \\  __/ |_ \n",
      " /_/    \\_\\_____|_|  |_|______|  |_____/ \\__,_|\\__\\__,_|___/\\___|\\__|\n",
      "           \n",
      "            _____                           _                        \n",
      "           / ____|                         | |                       \n",
      "          | |  __  ___ _ __   ___ _ __ __ _| |_ ___  _ __            \n",
      "          | | |_ |/ _ \\ '_ \\ / _ \\ '__/ _` | __/ _ \\| '__|           \n",
      "          | |__| |  __/ | | |  __/ | | (_| | || (_) | |              \n",
      "           \\_____|\\___|_| |_|\\___|_|  \\__,_|\\__\\___/|_|              \n",
      "\n"
     ]
    }
   ],
   "source": [
    "! python ../make_dataset.py --datasets PianoMidi --formats None --no-prompt --seed 42"
   ]
  },
  {
   "cell_type": "markdown",
   "metadata": {},
   "source": [
    "## Load the ACME Metadata\n",
    "\n",
    "We'll need to load the dataset's metadata to get the paths to the clean/degraded files. We'll use the degraded files as the pseudo-transcriptions."
   ]
  },
  {
   "cell_type": "code",
   "execution_count": 3,
   "metadata": {},
   "outputs": [
    {
     "data": {
      "text/html": [
       "<div>\n",
       "<style scoped>\n",
       "    .dataframe tbody tr th:only-of-type {\n",
       "        vertical-align: middle;\n",
       "    }\n",
       "\n",
       "    .dataframe tbody tr th {\n",
       "        vertical-align: top;\n",
       "    }\n",
       "\n",
       "    .dataframe thead th {\n",
       "        text-align: right;\n",
       "    }\n",
       "</style>\n",
       "<table border=\"1\" class=\"dataframe\">\n",
       "  <thead>\n",
       "    <tr style=\"text-align: right;\">\n",
       "      <th></th>\n",
       "      <th>altered_csv_path</th>\n",
       "      <th>degraded</th>\n",
       "      <th>degradation_id</th>\n",
       "      <th>clean_csv_path</th>\n",
       "      <th>split</th>\n",
       "    </tr>\n",
       "  </thead>\n",
       "  <tbody>\n",
       "    <tr>\n",
       "      <th>0</th>\n",
       "      <td>altered/PianoMidi/mz_332_2.csv</td>\n",
       "      <td>1</td>\n",
       "      <td>2</td>\n",
       "      <td>clean/PianoMidi/mz_332_2.csv</td>\n",
       "      <td>train</td>\n",
       "    </tr>\n",
       "    <tr>\n",
       "      <th>1</th>\n",
       "      <td>altered/PianoMidi/clementi_opus36_1_2.csv</td>\n",
       "      <td>1</td>\n",
       "      <td>7</td>\n",
       "      <td>clean/PianoMidi/clementi_opus36_1_2.csv</td>\n",
       "      <td>valid</td>\n",
       "    </tr>\n",
       "    <tr>\n",
       "      <th>2</th>\n",
       "      <td>altered/PianoMidi/rac_op32_13.csv</td>\n",
       "      <td>1</td>\n",
       "      <td>5</td>\n",
       "      <td>clean/PianoMidi/rac_op32_13.csv</td>\n",
       "      <td>train</td>\n",
       "    </tr>\n",
       "    <tr>\n",
       "      <th>3</th>\n",
       "      <td>altered/PianoMidi/alb_se4.csv</td>\n",
       "      <td>1</td>\n",
       "      <td>1</td>\n",
       "      <td>clean/PianoMidi/alb_se4.csv</td>\n",
       "      <td>train</td>\n",
       "    </tr>\n",
       "    <tr>\n",
       "      <th>4</th>\n",
       "      <td>altered/PianoMidi/chpn_op25_e12.csv</td>\n",
       "      <td>1</td>\n",
       "      <td>3</td>\n",
       "      <td>clean/PianoMidi/chpn_op25_e12.csv</td>\n",
       "      <td>test</td>\n",
       "    </tr>\n",
       "    <tr>\n",
       "      <th>5</th>\n",
       "      <td>altered/PianoMidi/muss_8.csv</td>\n",
       "      <td>1</td>\n",
       "      <td>4</td>\n",
       "      <td>clean/PianoMidi/muss_8.csv</td>\n",
       "      <td>train</td>\n",
       "    </tr>\n",
       "    <tr>\n",
       "      <th>6</th>\n",
       "      <td>clean/PianoMidi/scn16_7.csv</td>\n",
       "      <td>0</td>\n",
       "      <td>0</td>\n",
       "      <td>clean/PianoMidi/scn16_7.csv</td>\n",
       "      <td>train</td>\n",
       "    </tr>\n",
       "    <tr>\n",
       "      <th>7</th>\n",
       "      <td>altered/PianoMidi/mendel_op19_6.csv</td>\n",
       "      <td>1</td>\n",
       "      <td>8</td>\n",
       "      <td>clean/PianoMidi/mendel_op19_6.csv</td>\n",
       "      <td>train</td>\n",
       "    </tr>\n",
       "    <tr>\n",
       "      <th>8</th>\n",
       "      <td>altered/PianoMidi/mendel_op30_5.csv</td>\n",
       "      <td>1</td>\n",
       "      <td>6</td>\n",
       "      <td>clean/PianoMidi/mendel_op30_5.csv</td>\n",
       "      <td>train</td>\n",
       "    </tr>\n",
       "    <tr>\n",
       "      <th>9</th>\n",
       "      <td>altered/PianoMidi/chpn_op35_1.csv</td>\n",
       "      <td>1</td>\n",
       "      <td>2</td>\n",
       "      <td>clean/PianoMidi/chpn_op35_1.csv</td>\n",
       "      <td>train</td>\n",
       "    </tr>\n",
       "  </tbody>\n",
       "</table>\n",
       "</div>"
      ],
      "text/plain": [
       "                            altered_csv_path  degraded  degradation_id  \\\n",
       "0             altered/PianoMidi/mz_332_2.csv         1               2   \n",
       "1  altered/PianoMidi/clementi_opus36_1_2.csv         1               7   \n",
       "2          altered/PianoMidi/rac_op32_13.csv         1               5   \n",
       "3              altered/PianoMidi/alb_se4.csv         1               1   \n",
       "4        altered/PianoMidi/chpn_op25_e12.csv         1               3   \n",
       "5               altered/PianoMidi/muss_8.csv         1               4   \n",
       "6                clean/PianoMidi/scn16_7.csv         0               0   \n",
       "7        altered/PianoMidi/mendel_op19_6.csv         1               8   \n",
       "8        altered/PianoMidi/mendel_op30_5.csv         1               6   \n",
       "9          altered/PianoMidi/chpn_op35_1.csv         1               2   \n",
       "\n",
       "                            clean_csv_path  split  \n",
       "0             clean/PianoMidi/mz_332_2.csv  train  \n",
       "1  clean/PianoMidi/clementi_opus36_1_2.csv  valid  \n",
       "2          clean/PianoMidi/rac_op32_13.csv  train  \n",
       "3              clean/PianoMidi/alb_se4.csv  train  \n",
       "4        clean/PianoMidi/chpn_op25_e12.csv   test  \n",
       "5               clean/PianoMidi/muss_8.csv  train  \n",
       "6              clean/PianoMidi/scn16_7.csv  train  \n",
       "7        clean/PianoMidi/mendel_op19_6.csv  train  \n",
       "8        clean/PianoMidi/mendel_op30_5.csv  train  \n",
       "9          clean/PianoMidi/chpn_op35_1.csv  train  "
      ]
     },
     "execution_count": 3,
     "metadata": {},
     "output_type": "execute_result"
    }
   ],
   "source": [
    "degradation_ids = pd.read_csv(os.path.join('acme', 'degradation_ids.csv'))\n",
    "\n",
    "metadata = pd.read_csv(os.path.join('acme', 'metadata.csv'))\n",
    "metadata.head(10)"
   ]
  },
  {
   "cell_type": "markdown",
   "metadata": {},
   "source": [
    "## Create parallel ground truth and \"AMT output\""
   ]
  },
  {
   "cell_type": "code",
   "execution_count": 4,
   "metadata": {
    "tags": []
   },
   "outputs": [
    {
     "name": "stderr",
     "output_type": "stream",
     "text": [
      "100%|██████████| 328/328 [00:00<00:00, 5049.93it/s]\n"
     ]
    }
   ],
   "source": [
    "trans_dir = os.path.join(\"error_matching\", \"trans\")\n",
    "gt_dir = os.path.join(\"error_matching\", \"gt\")\n",
    "\n",
    "os.makedirs(trans_dir, exist_ok=True)\n",
    "os.makedirs(gt_dir, exist_ok=True)\n",
    "\n",
    "for idx, row in tqdm(metadata.iterrows(), total=len(metadata)):\n",
    "    shutil.copy(os.path.join('acme', row.clean_csv_path), gt_dir)\n",
    "    shutil.copy(os.path.join('acme', row.altered_csv_path), trans_dir)"
   ]
  },
  {
   "cell_type": "markdown",
   "metadata": {},
   "source": [
    "We now have an adjacent directory `./error_matching` with the expected input to the error matching script. It contains  two directories:\n",
    "* `gt`: Contains the ground truth clean excerpts.\n",
    "* `trans`: Contains the \"transcribed\" excerpts - the output of your AMT system goes here.\n",
    "\n",
    "Matching ground truth and transcribed files _must_ have the same basename\n",
    "in their respective directories. The files can be CSV, MIDI, or pickle (see below)."
   ]
  },
  {
   "cell_type": "markdown",
   "metadata": {},
   "source": [
    "# Run the Measure Errors script"
   ]
  },
  {
   "cell_type": "code",
   "execution_count": 5,
   "metadata": {
    "tags": []
   },
   "outputs": [
    {
     "name": "stdout",
     "output_type": "stream",
     "text": [
      "100%|█████████████████████████████████████████| 328/328 [00:16<00:00, 19.44it/s]\n"
     ]
    }
   ],
   "source": [
    "! python ../measure_errors.py --trans error_matching/trans --gt error_matching/gt --excerpt-length 15000 --min-notes 5"
   ]
  },
  {
   "cell_type": "markdown",
   "metadata": {},
   "source": [
    "The `measure_errors` script can be run on full piece transcriptions, so you can set an `excerpt-length` and `min-notes` via command line arguments. In our case, since we are running in only on excerpts, we set the `excerpt-length` to be longer than all of the excerpts, and the minimum number of notes to be smaller than all excerpts.\n",
    "\n",
    "For the full usage, see below.\n",
    "\n",
    "The output of the script is a file called `config.json`, it contains the relative proportions of different degradations to apply to match your data:"
   ]
  },
  {
   "cell_type": "code",
   "execution_count": 6,
   "metadata": {
    "tags": []
   },
   "outputs": [
    {
     "name": "stdout",
     "output_type": "stream",
     "text": [
      "Degradation probabilities:\n",
      "   pitch_shift: 0.1267123287671233\n",
      "    time_shift: 0.0136986301369863\n",
      "   onset_shift: 0.1232876712328767\n",
      "  offset_shift: 0.1232876712328767\n",
      "   remove_note: 0.25\n",
      "      add_note: 0.2773972602739726\n",
      "    split_note: 0.08561643835616438\n",
      "    join_notes: 0.11301369863013698\n",
      "\n",
      "Clean_prop: 0.10975609756097561\n"
     ]
    }
   ],
   "source": [
    "with open(\"config.json\", \"r\") as json_file:\n",
    "    config = json.load(json_file)\n",
    "\n",
    "print(\"Degradation probabilities:\")\n",
    "for prob, deg in zip(config['degradation_dist'], DEGRADATIONS.keys()):\n",
    "    print(f\"{deg.rjust(14)}: {prob}\")\n",
    "\n",
    "print()\n",
    "print(f\"Clean_prop: {config['clean_prop']}\")"
   ]
  },
  {
   "cell_type": "markdown",
   "metadata": {},
   "source": [
    "Notice that the probabilities are not all `1/9`, as might be expected from the ACME creation.\n",
    "This is because the measured probabilities only find one possible path from each transcription\n",
    "to its ground truth. In our case, it seems that many of the `time_shifts` are classified as\n",
    "a `remove_note` and an `add_note`. For the `measure_errors` script to classify an error as a `time_shift`,\n",
    "the shift length must be smaller than the duration of the shifted note. Without giving any arguments\n",
    "to `make_dataset`, this is unlikely."
   ]
  },
  {
   "cell_type": "markdown",
   "metadata": {},
   "source": [
    "# Examples\n",
    "\n",
    "## Pitch shift errors\n",
    "\n",
    "Let's take a few examples specifically. First, let's pick a random `pitch_shift`, and plot it."
   ]
  },
  {
   "cell_type": "code",
   "execution_count": 7,
   "metadata": {},
   "outputs": [],
   "source": [
    "def get_random_dfs(deg_name, metadata):\n",
    "    deg_id = degradation_ids.loc[degradation_ids[\"degradation_name\"] == deg_name, \"id\"].values[0]\n",
    "    meta_df = metadata.loc[metadata[\"degradation_id\"] == deg_id]\n",
    "\n",
    "    row = meta_df.sample()\n",
    "    basename = os.path.basename(row[\"clean_csv_path\"].values[0])\n",
    "    gt_df = csv_to_df(os.path.join(gt_dir, basename))\n",
    "    trans_df = csv_to_df(os.path.join(trans_dir, basename))\n",
    "\n",
    "    return gt_df, trans_df"
   ]
  },
  {
   "cell_type": "code",
   "execution_count": 8,
   "metadata": {
    "tags": []
   },
   "outputs": [
    {
     "data": {
      "image/png": "[encoded data removed]",
      "text/plain": [
       "<Figure size 432x288 with 1 Axes>"
      ]
     },
     "metadata": {
      "needs_background": "light"
     },
     "output_type": "display_data"
    }
   ],
   "source": [
    "gt_df, trans_df = get_random_dfs(\"pitch_shift\", metadata)\n",
    "\n",
    "plot_from_df(gt_df)"
   ]
  },
  {
   "cell_type": "code",
   "execution_count": 9,
   "metadata": {},
   "outputs": [
    {
     "data": {
      "image/png": "[encoded data removed]",
      "text/plain": [
       "<Figure size 432x288 with 1 Axes>"
      ]
     },
     "metadata": {
      "needs_background": "light"
     },
     "output_type": "display_data"
    }
   ],
   "source": [
    "plot_from_df(trans_df)"
   ]
  },
  {
   "cell_type": "markdown",
   "metadata": {},
   "source": [
    "Now, let's measure the degradation present in the selected excerpt."
   ]
  },
  {
   "cell_type": "code",
   "execution_count": 10,
   "metadata": {
    "tags": []
   },
   "outputs": [
    {
     "name": "stdout",
     "output_type": "stream",
     "text": [
      "Degradation counts:\n",
      "   pitch_shift: 1.0\n",
      "    time_shift: 0.0\n",
      "   onset_shift: 0.0\n",
      "  offset_shift: 0.0\n",
      "   remove_note: 0.0\n",
      "      add_note: 0.0\n",
      "    split_note: 0.0\n",
      "    join_notes: 0.0\n"
     ]
    }
   ],
   "source": [
    "sys.path.append(\"..\")\n",
    "from measure_errors import get_excerpt_degs\n",
    "\n",
    "deg_counts = get_excerpt_degs(gt_df, trans_df)\n",
    "\n",
    "print(\"Degradation counts:\")\n",
    "for count, deg in zip(deg_counts, DEGRADATIONS.keys()):\n",
    "    print(f\"{deg.rjust(14)}: {count}\")"
   ]
  },
  {
   "cell_type": "markdown",
   "metadata": {},
   "source": [
    "## Time shift errors\n",
    "\n",
    "Now we can try the same for `time_shift`:"
   ]
  },
  {
   "cell_type": "code",
   "execution_count": 11,
   "metadata": {},
   "outputs": [
    {
     "data": {
      "image/png": "[encoded data removed]",
      "text/plain": [
       "<Figure size 432x288 with 1 Axes>"
      ]
     },
     "metadata": {
      "needs_background": "light"
     },
     "output_type": "display_data"
    }
   ],
   "source": [
    "gt_df, trans_df = get_random_dfs(\"time_shift\", metadata)\n",
    "\n",
    "plot_from_df(gt_df)"
   ]
  },
  {
   "cell_type": "code",
   "execution_count": 12,
   "metadata": {},
   "outputs": [
    {
     "data": {
      "image/png": "[encoded data removed]",
      "text/plain": [
       "<Figure size 432x288 with 1 Axes>"
      ]
     },
     "metadata": {
      "needs_background": "light"
     },
     "output_type": "display_data"
    }
   ],
   "source": [
    "plot_from_df(trans_df)"
   ]
  },
  {
   "cell_type": "code",
   "execution_count": 13,
   "metadata": {
    "tags": []
   },
   "outputs": [
    {
     "name": "stdout",
     "output_type": "stream",
     "text": [
      "Degradation counts:\n",
      "   pitch_shift: 0.0\n",
      "    time_shift: 0.0\n",
      "   onset_shift: 0.0\n",
      "  offset_shift: 0.0\n",
      "   remove_note: 1.0\n",
      "      add_note: 1.0\n",
      "    split_note: 0.0\n",
      "    join_notes: 0.0\n"
     ]
    }
   ],
   "source": [
    "deg_counts = get_excerpt_degs(gt_df, trans_df)\n",
    "\n",
    "print(\"Degradation counts:\")\n",
    "for count, deg in zip(deg_counts, DEGRADATIONS.keys()):\n",
    "    print(f\"{deg.rjust(14)}: {count}\")"
   ]
  },
  {
   "cell_type": "markdown",
   "metadata": {},
   "source": [
    "Let's check the time shift length for each of the `time_shift`ed\n",
    "data points to see if our hypothesis of why they are sometimes missed\n",
    "is correct."
   ]
  },
  {
   "cell_type": "code",
   "execution_count": 14,
   "metadata": {},
   "outputs": [],
   "source": [
    "def get_time_shift_and_dur(gt_df, trans_df):\n",
    "    merged_df = pd.merge(gt_df, trans_df, how='outer', indicator=True)\n",
    "    \n",
    "    orig_note = merged_df.loc[merged_df._merge == \"left_only\"]\n",
    "    assert len(orig_note) == 1\n",
    "    \n",
    "    degraded_note = merged_df.loc[merged_df._merge == \"right_only\"]\n",
    "    assert len(degraded_note) == 1\n",
    "    \n",
    "    for col in [\"pitch\", \"dur\", \"track\"]:\n",
    "        assert orig_note[col].values[0] == degraded_note[col].values[0]\n",
    "        \n",
    "    return (\n",
    "        orig_note[\"onset\"].values[0] - degraded_note[\"onset\"].values[0],\n",
    "        orig_note[\"dur\"].values[0]\n",
    "    )"
   ]
  },
  {
   "cell_type": "code",
   "execution_count": 15,
   "metadata": {},
   "outputs": [
    {
     "name": "stdout",
     "output_type": "stream",
     "text": [
      "Time_shift length = 115     duration: 395   degs: ['time_shift']\n",
      "Time_shift length = 146     duration: 200   degs: ['time_shift']\n",
      "Time_shift length = 160     duration: 572   degs: ['time_shift']\n",
      "Time_shift length = 251     duration: 675   degs: ['time_shift']\n",
      "Time_shift length = 286     duration: 125   degs: ['remove_note', 'add_note']\n",
      "Time_shift length = 342     duration: 276   degs: ['remove_note', 'add_note']\n",
      "Time_shift length = 458     duration: 139   degs: ['remove_note', 'add_note']\n",
      "Time_shift length = 484     duration: 60    degs: ['remove_note', 'add_note']\n",
      "Time_shift length = 522     duration: 55    degs: ['remove_note', 'add_note']\n",
      "Time_shift length = 659     duration: 248   degs: ['remove_note', 'add_note']\n",
      "Time_shift length = 664     duration: 210   degs: ['remove_note', 'add_note']\n",
      "Time_shift length = 669     duration: 335   degs: ['remove_note', 'add_note']\n",
      "Time_shift length = 727     duration: 208   degs: ['remove_note', 'add_note']\n",
      "Time_shift length = 877     duration: 217   degs: ['remove_note', 'add_note']\n",
      "Time_shift length = 914     duration: 184   degs: ['remove_note', 'add_note']\n",
      "Time_shift length = 950     duration: 101   degs: ['remove_note', 'add_note']\n",
      "Time_shift length = 1116    duration: 275   degs: ['remove_note', 'add_note']\n",
      "Time_shift length = 1124    duration: 422   degs: ['remove_note', 'add_note']\n",
      "Time_shift length = 1418    duration: 341   degs: ['remove_note', 'add_note']\n",
      "Time_shift length = 1632    duration: 1472  degs: ['remove_note', 'add_note']\n",
      "Time_shift length = 1642    duration: 237   degs: ['remove_note', 'add_note']\n",
      "Time_shift length = 1688    duration: 229   degs: ['remove_note', 'add_note']\n",
      "Time_shift length = 1758    duration: 89    degs: ['remove_note', 'add_note']\n",
      "Time_shift length = 1815    duration: 163   degs: ['remove_note', 'add_note']\n",
      "Time_shift length = 2075    duration: 77    degs: ['remove_note', 'add_note']\n",
      "Time_shift length = 2111    duration: 292   degs: ['remove_note', 'add_note']\n",
      "Time_shift length = 2499    duration: 813   degs: ['remove_note', 'add_note']\n",
      "Time_shift length = 2811    duration: 1081  degs: ['remove_note', 'add_note']\n",
      "Time_shift length = 2953    duration: 198   degs: ['remove_note', 'add_note']\n",
      "Time_shift length = 3142    duration: 200   degs: ['remove_note', 'add_note']\n",
      "Time_shift length = 3252    duration: 480   degs: ['remove_note', 'add_note']\n",
      "Time_shift length = 3298    duration: 110   degs: ['remove_note', 'add_note']\n",
      "Time_shift length = 3351    duration: 121   degs: ['remove_note', 'add_note']\n",
      "Time_shift length = 3447    duration: 642   degs: ['remove_note', 'add_note']\n",
      "Time_shift length = 3593    duration: 456   degs: ['remove_note', 'add_note']\n",
      "Time_shift length = 3963    duration: 88    degs: ['remove_note', 'add_note']\n",
      "Time_shift length = 4105    duration: 262   degs: ['remove_note', 'add_note']\n"
     ]
    }
   ],
   "source": [
    "deg_id = degradation_ids.loc[degradation_ids[\"degradation_name\"] == \"time_shift\", \"id\"].values[0]\n",
    "meta_df = metadata.loc[metadata[\"degradation_id\"] == deg_id]\n",
    "\n",
    "lengths = []\n",
    "durs = []\n",
    "degs = []\n",
    "for _, row in meta_df.iterrows():\n",
    "    basename = os.path.basename(row[\"clean_csv_path\"])\n",
    "    gt_df = csv_to_df(os.path.join(gt_dir, basename))\n",
    "    trans_df = csv_to_df(os.path.join(trans_dir, basename))\n",
    "    \n",
    "    length, dur = get_time_shift_and_dur(gt_df, trans_df)\n",
    "    lengths.append(abs(length))\n",
    "    durs.append(dur)\n",
    "    degs.append(get_excerpt_degs(gt_df, trans_df))\n",
    "    \n",
    "for length, dur, deg in sorted(list(zip(lengths, durs, degs))):\n",
    "    print(\n",
    "        f\"Time_shift length = {length}\".ljust(27),\n",
    "        f\"duration: {dur}\".ljust(15),\n",
    "        f\"degs: {[deg_name for deg_name, deg_flag in zip(DEGRADATIONS, deg) if deg_flag == 1]}\",\n",
    "    )"
   ]
  },
  {
   "cell_type": "markdown",
   "metadata": {},
   "source": [
    "Notice that every `time_shift` with a length less than the note's `duration`\n",
    "is classified as a `time_shift`, while longer `time_shifts` are classified\n",
    "as a `remove_note` and an `add_note`."
   ]
  },
  {
   "cell_type": "markdown",
   "metadata": {},
   "source": [
    "# Creating a Custom ACME Dataset to match your AMT output\n",
    "\n",
    "You can feed the generated `config.json` file to `make_dataset.py` in order to generate a custom ACME dataset matching the measured degradation and clean proportions:\n",
    "\n",
    "```bash\n",
    "  python ../make_dataset.py --datasets PianoMidi --no-prompt --seed 42 --config config.json\n",
    "```"
   ]
  },
  {
   "cell_type": "markdown",
   "metadata": {},
   "source": [
    "# Input file types\n",
    "\n",
    "The measure_errors script can read `MIDI`, `CSV`, or `pickle` files:\n",
    "* `MIDI`: Any MIDI file.\n",
    "* `CSV`: Any CSV file generated by mdtk (see mdtk/fileio.py).\n",
    "* `pickle`: A pickle file containing a single numpy array called `piano_roll`, of shape either `num_frames x num_pitches`, or `num_frames x (2 * num_pitches)`, in which case the first `num_pitches` columns are a note presence piano roll and the last `num_pitches` columns are a corresponding onset piano roll. The min and max pitch can be set using `--pr-min-pitch` and `--pr-max-pitch`."
   ]
  },
  {
   "cell_type": "markdown",
   "metadata": {},
   "source": [
    "# Command line arguments\n",
    "The measure_errors script has many other command line arguments. A full list is below, but we will highlight a few of the most useful ones here:\n",
    "\n",
    "* `--trans` and `--gt`: Directories in which the script will look for matching ground truths and transcriptions. Any files which match in basename (not including extension) will be treated as matches. For example, the ground truth 'file1.mid' will match the transcription 'file1.csv'. Include `-r` to search directories recursively.\n",
    "* `--trans_start` and `--trans_end`: If the transcriptions are only partial transcriptions of the ground truths, these arguments can be used to set the bounds of the transcriptions (in ms). For example, if only the first 30 seconds are transcribed, use `--trans_end 30000`.\n",
    "* `--excerpt-length`: Each transcription is split into excerpts of this length before errors are measured. This should be set to the length of excerpt which you plan to send to your model. Shorter values will lead to more accurate error measurements, but longer values may contain long-range patterns that aid in modelling."
   ]
  },
  {
   "cell_type": "code",
   "execution_count": 16,
   "metadata": {},
   "outputs": [
    {
     "name": "stdout",
     "output_type": "stream",
     "text": [
      "usage: measure_errors.py [-h] [--json JSON] [-r] --gt GT\r\n",
      "                         [--gt_ext {mid,pkl,csv}] --trans TRANS\r\n",
      "                         [--trans_ext {mid,pkl,csv}]\r\n",
      "                         [--pr-min-pitch PR_MIN_PITCH]\r\n",
      "                         [--pr-max-pitch PR_MAX_PITCH]\r\n",
      "                         [--trans_start TRANS_START] [--trans_end TRANS_END]\r\n",
      "                         [--excerpt-length ms] [--min-notes N]\r\n",
      "\r\n",
      "Measure errors from a transcription error in order to make a degraded MIDI\r\n",
      "dataset with the measure proportion of each degration.\r\n",
      "\r\n",
      "optional arguments:\r\n",
      "  -h, --help            show this help message and exit\r\n",
      "  --json JSON           The file to write the degradation config json data out\r\n",
      "                        to.\r\n",
      "  -r, --recursive       Search the given --gt and --trans directories\r\n",
      "                        recursively. The directory structures in each don't\r\n",
      "                        have to be identical, but corresponding files must\r\n",
      "                        still be uniquely named.\r\n",
      "  --gt GT               The directory which contains the ground truth musical\r\n",
      "                        scores or piano rolls.\r\n",
      "  --gt_ext {mid,pkl,csv}\r\n",
      "                        Restrict the file type for the ground truths.\r\n",
      "  --trans TRANS         The directory which contains the transcriptions.\r\n",
      "  --trans_ext {mid,pkl,csv}\r\n",
      "                        Restrict the file type for the transcriptions.\r\n",
      "  --pr-min-pitch PR_MIN_PITCH\r\n",
      "                        Minimum pianoroll pitch.\r\n",
      "  --pr-max-pitch PR_MAX_PITCH\r\n",
      "                        Maximum pianoroll pitch.\r\n",
      "  --trans_start TRANS_START\r\n",
      "                        What time the transcription starts, in ms. Notes\r\n",
      "                        before this in the gt will be ignored, and all\r\n",
      "                        transcribed notes will be shifted forward by this\r\n",
      "                        amount.\r\n",
      "  --trans_end TRANS_END\r\n",
      "                        What timethe transcription ends, in ms (if any). Notes\r\n",
      "                        after this in the gt will be ignored, and notes still\r\n",
      "                        on will be cut at this time.\r\n",
      "  --excerpt-length ms   The length of the excerpt (in ms) to take from each\r\n",
      "                        piece. The excerpt will start on a note onset and\r\n",
      "                        include all notes whose onset lies within this number\r\n",
      "                        of ms after the first note.\r\n",
      "  --min-notes N         The minimum number of notes required for an excerpt to\r\n",
      "                        be valid.\r\n"
     ]
    }
   ],
   "source": [
    "! python ../measure_errors.py -h"
   ]
  },
  {
   "cell_type": "code",
   "execution_count": 17,
   "metadata": {},
   "outputs": [],
   "source": [
    "# Clean up\n",
    "! python ../make_dataset.py --no-prompt --clean\n",
    "\n",
    "shutil.rmtree(\"acme\")\n",
    "shutil.rmtree(\"error_matching\")\n",
    "os.remove(\"config.json\")"
   ]
  }
 ],
 "metadata": {
  "kernelspec": {
   "display_name": "Python 3",
   "language": "python",
   "name": "python3"
  },
  "language_info": {
   "codemirror_mode": {
    "name": "ipython",
    "version": 3
   },
   "file_extension": ".py",
   "mimetype": "text/x-python",
   "name": "python",
   "nbconvert_exporter": "python",
   "pygments_lexer": "ipython3",
   "version": "3.8.5"
  },
  "toc": {
   "base_numbering": 1,
   "nav_menu": {},
   "number_sections": true,
   "sideBar": true,
   "skip_h1_title": false,
   "title_cell": "Table of Contents",
   "title_sidebar": "Contents",
   "toc_cell": true,
   "toc_position": {},
   "toc_section_display": true,
   "toc_window_display": false
  }
 },
 "nbformat": 4,
 "nbformat_minor": 4
}
