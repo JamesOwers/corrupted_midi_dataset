{
 "cells": [
  {
   "cell_type": "markdown",
   "metadata": {},
   "source": [
    "# Dataset Creation <a class=\"tocSkip\">"
   ]
  },
  {
   "cell_type": "markdown",
   "metadata": {
    "toc": true
   },
   "source": [
    "<h1>Table of Contents<span class=\"tocSkip\"></span></h1>\n",
    "<div class=\"toc\"><ul class=\"toc-item\"><li><span><a href=\"#Defining-input-data\" data-toc-modified-id=\"Defining-input-data-1\"><span class=\"toc-item-num\">1&nbsp;&nbsp;</span>Defining input data</a></span></li><li><span><a href=\"#Choosing-and-configuring-degradations\" data-toc-modified-id=\"Choosing-and-configuring-degradations-2\"><span class=\"toc-item-num\">2&nbsp;&nbsp;</span>Choosing and configuring degradations</a></span></li><li><span><a href=\"#Excerpt-length\" data-toc-modified-id=\"Excerpt-length-3\"><span class=\"toc-item-num\">3&nbsp;&nbsp;</span>Excerpt length</a></span></li><li><span><a href=\"#Reformatted-data---piano-roll-and-command\" data-toc-modified-id=\"Reformatted-data---piano-roll-and-command-4\"><span class=\"toc-item-num\">4&nbsp;&nbsp;</span>Reformatted data - piano roll and command</a></span></li><li><span><a href=\"#Cleaning-up-and-specifying-output-directory\" data-toc-modified-id=\"Cleaning-up-and-specifying-output-directory-5\"><span class=\"toc-item-num\">5&nbsp;&nbsp;</span>Cleaning up and specifying output directory</a></span></li><li><span><a href=\"#Reproducibility\" data-toc-modified-id=\"Reproducibility-6\"><span class=\"toc-item-num\">6&nbsp;&nbsp;</span>Reproducibility</a></span></li><li><span><a href=\"#Help\" data-toc-modified-id=\"Help-7\"><span class=\"toc-item-num\">7&nbsp;&nbsp;</span>Help</a></span></li></ul></div>"
   ]
  },
  {
   "cell_type": "markdown",
   "metadata": {},
   "source": [
    "We provide tools to create your own ACME datasets. You can:\n",
    "* Use your own midi or csv data, or pick from our configured data to automatically download\n",
    "* Choose what types of degradation to include, and supply parameters for them\n",
    "* Define how long the excerpts taken should be\n",
    "* Create re-formatted, compressed representations of the data\n",
    "* Ensure reproducibility\n",
    "\n",
    "If you want to degrade data on-the-fly, we also provide a `Degrader()` class which can be used in conjunction with a dataloader. This is described in a subsequent notebook [04_data_parsers_and_degrader.ipynb](./04_data_parsers_and_degrader.ipynb).\n",
    "\n",
    "In this notebook, we provide some example calls."
   ]
  },
  {
   "cell_type": "markdown",
   "metadata": {},
   "source": [
    "# Defining input data"
   ]
  },
  {
   "cell_type": "markdown",
   "metadata": {},
   "source": [
    "We have three datasets which will automatically download if specified: `PPDDSep2018Monophonic`, `PPDDSep2018Polyphonic`, and `PianoMidi`. The default is to download and use them all. To not download them, set the `--datasets` argument to `None`.\n",
    "\n",
    "This command uses default parameters to create an acme dataset with just the `PianoMidi` dataset. It will take a few moments to run, and you can observe the output in adjacent folder called `./acme`."
   ]
  },
  {
   "cell_type": "code",
   "execution_count": 1,
   "metadata": {},
   "outputs": [
    {
     "name": "stdout",
     "output_type": "stream",
     "text": [
      "No random seed supplied. Setting to 2326526830.\n",
      "Loading data from downloaders, this could take a while...\n",
      "Copying midi to /Users/jfowers/.mdtk_cache/PianoMidi/data: 100%|█| 328/328 [00:0\n",
      "Loading data from PianoMidi: 100%|████████████| 328/328 [00:42<00:00,  7.77it/s]\n",
      "Degrading data: 100%|█████████████████████████| 328/328 [00:03<00:00, 82.28it/s]\n",
      "Creating command corpus: 100%|████████████████| 328/328 [00:08<00:00, 37.53it/s]\n",
      "Creating pianoroll corpus: 100%|██████████████| 328/328 [00:05<00:00, 56.31it/s]\n",
      "\n",
      "========== Finished! ==========\n",
      "\n",
      "Count of degradations:\n",
      "\t* none: 36\n",
      "\t* pitch_shift: 37\n",
      "\t* time_shift: 37\n",
      "\t* onset_shift: 36\n",
      "\t* offset_shift: 36\n",
      "\t* remove_note: 37\n",
      "\t* add_note: 36\n",
      "\t* split_note: 37\n",
      "\t* join_notes: 36\n",
      "\n",
      "You will find the generated data at /Users/jfowers/git/midi_degradation_toolkit/docs/acme with subdirectories\n",
      "\t* clean - contains the extracted clean excerpts\n",
      "\t* altered - contains the excerpts altered by the degradations described in metadata.csv\n",
      "\n",
      "metadata.csv describes:\n",
      "\t* (the id number for) the type of degradation used for the alteration\n",
      "\t* the path for the altered and clean files\n",
      "\t* which split (train, valid, test) the file should be used in\n",
      "\t* in which corpus and on what line the file is located\n",
      "\n",
      "degradation_ids.csv is a mapping of degradation name to the id number used in metadata.csv\n",
      "\n",
      "The {train,valid,test}_cmd_corpus.csv are command-based (note_on, note_off, shift) versions of the acme data more convenient for our provided pytorch Dataset classes.\n",
      "\n",
      "The {train,valid,test}_pr_corpus.csv are piano-roll-based versions of the acme data more convenient for our provided pytorch Dataset classes.\n",
      "\n",
      "To reproduce this dataset again, run the script with argument --seed 2326526830\n",
      "            _____        ______   _____        _                 _\n",
      "     /\\   / ____|  \\/  |  ____|  |  __ \\      | |               | |  \n",
      "    /  \\ | |    | \\  / | |__     | |  | | __ _| |_ __ _ ___  ___| |_ \n",
      "   / /\\ \\| |    | |\\/| |  __|    | |  | |/ _` | __/ _` / __|/ _ \\ __|\n",
      "  / ____ \\ |____| |  | | |____   | |__| | (_| | || (_| \\__ \\  __/ |_ \n",
      " /_/    \\_\\_____|_|  |_|______|  |_____/ \\__,_|\\__\\__,_|___/\\___|\\__|\n",
      "           \n",
      "            _____                           _                        \n",
      "           / ____|                         | |                       \n",
      "          | |  __  ___ _ __   ___ _ __ __ _| |_ ___  _ __            \n",
      "          | | |_ |/ _ \\ '_ \\ / _ \\ '__/ _` | __/ _ \\| '__|           \n",
      "          | |__| |  __/ | | |  __/ | | (_| | || (_) | |              \n",
      "           \\_____|\\___|_| |_|\\___|_|  \\__,_|\\__\\___/|_|              \n",
      "\n"
     ]
    }
   ],
   "source": [
    "! python ../make_dataset.py --datasets PianoMidi"
   ]
  },
  {
   "cell_type": "markdown",
   "metadata": {},
   "source": [
    "If you don't want to use any automatic downloaders, you must **specify your own input data**. You can provide midi files, or csv data (in an expected format - see the introduction [01_the_ACME_dataset.ipynb](01_the_ACME_dataset.ipynb) for the expected format).\n",
    "\n",
    "The below command will create a very small dataset with some of the data which will have been cached if the first command in this notebook was run."
   ]
  },
  {
   "cell_type": "markdown",
   "metadata": {},
   "source": [
    "```bash\n",
    "make_dataset.py \\\n",
    "    --datasets None \\\n",
    "    --local-midi-dirs ~/.mdtk_cache/PianoMidi/brahms\n",
    "```"
   ]
  },
  {
   "cell_type": "markdown",
   "metadata": {},
   "source": [
    "# Choosing and configuring degradations"
   ]
  },
  {
   "cell_type": "markdown",
   "metadata": {},
   "source": [
    "See the next notebook, [03_degradation_functions.ipynb](03_degradation_functions.ipynb), for a full description of all the degradations available."
   ]
  },
  {
   "cell_type": "markdown",
   "metadata": {},
   "source": [
    "This call again works with the small brahms data and:\n",
    "* leaves 44% of the data clean (no degradation is applied)\n",
    "* selects only `pitch_shift` and `time_shift` degradations\n",
    "* attempts to perform these degradations at a ratio of 4 to 1 (sampling is done)\n",
    "* sets some parameters for the `pitch_shift` degradation"
   ]
  },
  {
   "cell_type": "markdown",
   "metadata": {},
   "source": [
    "```bash\n",
    "python make_dataset.py \\\n",
    "    --datasets None \\\n",
    "    --local-midi-dirs ~/.mdtk_cache/PianoMidi/brahms \\\n",
    "    --clean-prop .44 \\\n",
    "    --degradations pitch_shift time_shift \\\n",
    "    --degradation-dist 4 1 \\\n",
    "    --degradation-kwargs '{\"pitch_shift__min_pitch\": 50, \"pitch_shift__max_pitch\": 80}' \\\n",
    "    --seed 42\n",
    "```"
   ]
  },
  {
   "cell_type": "markdown",
   "metadata": {},
   "source": [
    "Specifying the `--degradation-kwargs` as a json string can get finickity with quotes, so you can specify the path to a json file instead e.g."
   ]
  },
  {
   "cell_type": "markdown",
   "metadata": {},
   "source": [
    "```bash\n",
    "python make_dataset.py \\\n",
    "    --datasets None \\\n",
    "    --local-midi-dirs ~/.mdtk_cache/PianoMidi/brahms \\\n",
    "    --clean-prop .44 \\\n",
    "    --degradations pitch_shift time_shift \\\n",
    "    --degradation-dist 4 1 \\\n",
    "    --degradation-kwargs deg_kwargs.json \\\n",
    "    --seed 42\n",
    "```\n",
    "\n",
    "where `deg_kwargs.json` is:\n",
    "```\n",
    "{\n",
    "    \"pitch_shift__min_pitch\": 50,\n",
    "    \"pitch_shift__max_pitch\": 80\n",
    "}\n",
    "```"
   ]
  },
  {
   "cell_type": "markdown",
   "metadata": {},
   "source": [
    "# Excerpt length"
   ]
  },
  {
   "cell_type": "markdown",
   "metadata": {},
   "source": [
    "You can define the minimum length for an excerpt in milliseconds and number of notes (both conditions are honoured). Note that the defaults are `5000` and `10` respectively. See `mdtk.df_utils.get_random_excerpt` for full details of how the excerpt selection is done.\n",
    "\n",
    "This example produces excerpts of approximately 10 seconds in length, with a minimum of 20 notes in them."
   ]
  },
  {
   "cell_type": "markdown",
   "metadata": {},
   "source": [
    "```bash\n",
    "python make_dataset.py \\\n",
    "    --datasets None \\\n",
    "    --local-midi-dirs ~/.mdtk_cache/PianoMidi/brahms \\\n",
    "    --excerpt-length 10000 \\\n",
    "    --min-notes 20\n",
    "```"
   ]
  },
  {
   "cell_type": "markdown",
   "metadata": {},
   "source": [
    "# Reformatted data - piano roll and command"
   ]
  },
  {
   "cell_type": "markdown",
   "metadata": {},
   "source": [
    "By, default, we create compressed data which is reformatted for easy loading to models. This can be turned off by setting `--formats None`."
   ]
  },
  {
   "cell_type": "markdown",
   "metadata": {},
   "source": [
    "```bash\n",
    "python make_dataset.py \\\n",
    "    --datasets None \\\n",
    "    --local-midi-dirs ~/.mdtk_cache/PianoMidi/brahms \\\n",
    "    --formats None\n",
    "```"
   ]
  },
  {
   "cell_type": "markdown",
   "metadata": {},
   "source": [
    "We discuss the format data in a subsequent notebook: [04_data_parsers_and_degrader.ipynb](./04_data_parsers_and_degrader.ipynb)."
   ]
  },
  {
   "cell_type": "markdown",
   "metadata": {},
   "source": [
    "# Cleaning up and specifying output directory"
   ]
  },
  {
   "cell_type": "markdown",
   "metadata": {},
   "source": [
    "To remove any cached files, you can run `python make_dataset.py --clean`. A prompt is given by default, this can be cancelled with `--no-prompt`. Also, note that the output directory is deleted and recreated with every run of the script. Again, the user is prompted prior to deletion, but this can be skipped with `--no-prompt`. Alternatively, a new path for the output to be written to can be provided with `--output-dir`. Examples:"
   ]
  },
  {
   "cell_type": "markdown",
   "metadata": {},
   "source": [
    "```bash\n",
    "python make_dataset.py --clean  # prompts user before deleting cache\n",
    "python make_dataset.py --clean --no-prompt  # deletes cache with no prompt\n",
    "python make_dataset.py --datasets PianoMidi  # create a fresh dataset\n",
    "python make_dataset.py  # this raises a prompt to delete the old one located at ./acme\n",
    "python make_dataset.py --output-dir ./new/output/dir\n",
    "```"
   ]
  },
  {
   "cell_type": "markdown",
   "metadata": {},
   "source": [
    "# Reproducibility"
   ]
  },
  {
   "cell_type": "markdown",
   "metadata": {},
   "source": [
    "To ensure that you get the same result when you run the script again, set the `--seed` parameter. This must be a number between `0` and `2**32 - 1`."
   ]
  },
  {
   "cell_type": "markdown",
   "metadata": {},
   "source": [
    "```bash\n",
    "make_dataset.py --seed 42\n",
    "```"
   ]
  },
  {
   "cell_type": "markdown",
   "metadata": {},
   "source": [
    "# Help"
   ]
  },
  {
   "cell_type": "code",
   "execution_count": 2,
   "metadata": {},
   "outputs": [
    {
     "name": "stdout",
     "output_type": "stream",
     "text": [
      "usage: make_dataset.py [-h] [-o OUTPUT_DIR] [--config CONFIG]\n",
      "                       [--formats [format [format ...]]]\n",
      "                       [--local-midi-dirs [midi_dir [midi_dir ...]]]\n",
      "                       [--local-csv-dirs [csv_dir [csv_dir ...]]]\n",
      "                       [--recursive]\n",
      "                       [--datasets [dataset_name [dataset_name ...]]]\n",
      "                       [--degradations [deg_name [deg_name ...]]]\n",
      "                       [--excerpt-length ms] [--min-notes N]\n",
      "                       [--degradation-kwargs json_file_or_string]\n",
      "                       [--degradation-dist [relative_probability [relative_probability ...]]]\n",
      "                       [--clean-prop CLEAN_PROP] [--splits train valid test]\n",
      "                       [--seed SEED] [--clean] [-v] [--no-prompt]\n",
      "\n",
      "Make datasets of altered and corrupted midi excerpts.\n",
      "\n",
      "optional arguments:\n",
      "  -h, --help            show this help message and exit\n",
      "  -o OUTPUT_DIR, --output-dir OUTPUT_DIR\n",
      "                        the directory to write the dataset to. (default:\n",
      "                        /Users/jfowers/git/midi_degradation_toolkit/docs/acme)\n",
      "  --config CONFIG       Load a json config file, in the format created by\n",
      "                        measure_errors.py. This will override --degradations,\n",
      "                        --degradation-dist, and --clean-prop. (default: None)\n",
      "  --formats [format [format ...]]\n",
      "                        Create custom versions of the acme data for easier\n",
      "                        loading with our provided pytorch Dataset classes.\n",
      "                        Choices are ['command', 'pianoroll']. Specify none to\n",
      "                        avoid creation (default: ['command', 'pianoroll'])\n",
      "  --local-midi-dirs [midi_dir [midi_dir ...]]\n",
      "                        directories containing midi files to include in the\n",
      "                        dataset (default: [])\n",
      "  --local-csv-dirs [csv_dir [csv_dir ...]]\n",
      "                        directories containing csv files to include in the\n",
      "                        dataset (default: [])\n",
      "  --recursive           Search local dataset directories recursively for all\n",
      "                        midi or csv files. (default: False)\n",
      "  --datasets [dataset_name [dataset_name ...]]\n",
      "                        datasets to download and use. Must match names of\n",
      "                        classes in the downloaders module. By default, will\n",
      "                        use cached downloaded data if available. To clear the\n",
      "                        cache, run the script with the --clean flag. To\n",
      "                        download no data, provide an input of \"None\" (default:\n",
      "                        ['PPDDSep2018Monophonic', 'PPDDSep2018Polyphonic',\n",
      "                        'PianoMidi'])\n",
      "  --degradations [deg_name [deg_name ...]]\n",
      "                        degradations to use on the data. Must match names of\n",
      "                        functions in the degradations module. By default, will\n",
      "                        use them all. (default: ['pitch_shift', 'time_shift',\n",
      "                        'onset_shift', 'offset_shift', 'remove_note',\n",
      "                        'add_note', 'split_note', 'join_notes'])\n",
      "  --excerpt-length ms   The length of the excerpt (in ms) to take from each\n",
      "                        piece. The excerpt will start on a note onset and\n",
      "                        include all notes whose onset lies within this number\n",
      "                        of ms after the first note. (default: 5000)\n",
      "  --min-notes N         The minimum number of notes required for an excerpt to\n",
      "                        be valid. (default: 10)\n",
      "  --degradation-kwargs json_file_or_string\n",
      "                        json file or json-formatted string with keyword\n",
      "                        arguments for the degradation functions. First provide\n",
      "                        the degradation name, then a double underscore, then\n",
      "                        the keyword argument name, followed by the value to\n",
      "                        use for the kwarg. e.g. `{\"time_shift__align_onset\":\n",
      "                        true, \"pitch_shift__min_pitch\": 5}` (default: None)\n",
      "  --degradation-dist [relative_probability [relative_probability ...]]\n",
      "                        A list of relative probabilities that each degradation\n",
      "                        will used. Must be the same length as --degradations.\n",
      "                        Defaults to a uniform distribution. (default: None)\n",
      "  --clean-prop CLEAN_PROP\n",
      "                        The proportion of excerpts in the final dataset that\n",
      "                        should be clean. (default: 0.1111111111111111)\n",
      "  --splits train valid test\n",
      "                        The relative sizes of the train, validation, and test\n",
      "                        sets respectively. (default: [0.8, 0.1, 0.1])\n",
      "  --seed SEED           The numpy seed to use when creating the dataset.\n",
      "                        (default: None)\n",
      "  --clean               Clear and delete the download cache\n",
      "                        /Users/jfowers/.mdtk_cache (and do nothing else).\n",
      "                        (default: False)\n",
      "  -v, --verbose         Verbose printing. (default: False)\n",
      "  --no-prompt           Dont prompt user for response. (default: False)\n"
     ]
    }
   ],
   "source": [
    "! ../make_dataset.py -h"
   ]
  }
 ],
 "metadata": {
  "kernelspec": {
   "display_name": "Python 3",
   "language": "python",
   "name": "python3"
  },
  "language_info": {
   "codemirror_mode": {
    "name": "ipython",
    "version": 3
   },
   "file_extension": ".py",
   "mimetype": "text/x-python",
   "name": "python",
   "nbconvert_exporter": "python",
   "pygments_lexer": "ipython3",
   "version": "3.8.5"
  },
  "toc": {
   "base_numbering": 1,
   "nav_menu": {},
   "number_sections": true,
   "sideBar": true,
   "skip_h1_title": false,
   "title_cell": "Table of Contents",
   "title_sidebar": "Contents",
   "toc_cell": true,
   "toc_position": {},
   "toc_section_display": true,
   "toc_window_display": false
  },
  "toc-autonumbering": false
 },
 "nbformat": 4,
 "nbformat_minor": 4
}
