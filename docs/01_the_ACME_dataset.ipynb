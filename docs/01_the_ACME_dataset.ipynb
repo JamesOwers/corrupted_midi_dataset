{
 "cells": [
  {
   "cell_type": "markdown",
   "metadata": {},
   "source": [
    "# The ACME Dataset <a class=\"tocSkip\">"
   ]
  },
  {
   "cell_type": "markdown",
   "metadata": {
    "toc": true
   },
   "source": [
    "<h1>Table of Contents<span class=\"tocSkip\"></span></h1>\n",
    "<div class=\"toc\"><ul class=\"toc-item\"><li><span><a href=\"#Getting-the-data\" data-toc-modified-id=\"Getting-the-data-1\"><span class=\"toc-item-num\">1&nbsp;&nbsp;</span>Getting the data</a></span></li><li><span><a href=\"#The-data\" data-toc-modified-id=\"The-data-2\"><span class=\"toc-item-num\">2&nbsp;&nbsp;</span>The data</a></span></li><li><span><a href=\"#The-metadata\" data-toc-modified-id=\"The-metadata-3\"><span class=\"toc-item-num\">3&nbsp;&nbsp;</span>The metadata</a></span></li><li><span><a href=\"#Details-to-note-and-summary-statistics\" data-toc-modified-id=\"Details-to-note-and-summary-statistics-4\"><span class=\"toc-item-num\">4&nbsp;&nbsp;</span>Details to note and summary statistics</a></span><ul class=\"toc-item\"><li><span><a href=\"#Initial-onset-time\" data-toc-modified-id=\"Initial-onset-time-4.1\"><span class=\"toc-item-num\">4.1&nbsp;&nbsp;</span>Initial onset time</a></span></li><li><span><a href=\"#Excerpt-lengths\" data-toc-modified-id=\"Excerpt-lengths-4.2\"><span class=\"toc-item-num\">4.2&nbsp;&nbsp;</span>Excerpt lengths</a></span></li></ul></li><li><span><a href=\"#Compressed-data-for-modelling\" data-toc-modified-id=\"Compressed-data-for-modelling-5\"><span class=\"toc-item-num\">5&nbsp;&nbsp;</span>Compressed data for modelling</a></span></li></ul></div>"
   ]
  },
  {
   "cell_type": "code",
   "execution_count": 1,
   "metadata": {},
   "outputs": [],
   "source": [
    "import logging\n",
    "from pathlib import Path\n",
    "\n",
    "import random\n",
    "import matplotlib.pyplot as plt\n",
    "import pandas as pd\n",
    "import seaborn as sns\n",
    "from IPython.display import display\n",
    "from tqdm import tqdm\n",
    "\n",
    "import mdtk\n",
    "from mdtk.fileio import COLNAMES, csv_to_df\n",
    "from utils import download_file, unzip_file, plot_from_df\n",
    "\n",
    "LOGGER = logging.getLogger()"
   ]
  },
  {
   "cell_type": "markdown",
   "metadata": {},
   "source": [
    "# Getting the data"
   ]
  },
  {
   "cell_type": "markdown",
   "metadata": {},
   "source": [
    "First, let's obtain the acme dataset and unzip it adjacent to this file."
   ]
  },
  {
   "cell_type": "code",
   "execution_count": 2,
   "metadata": {},
   "outputs": [
    {
     "name": "stderr",
     "output_type": "stream",
     "text": [
      "100%|██████████| 42544/42544 [00:10<00:00, 4024.71it/s]\n"
     ]
    }
   ],
   "source": [
    "url = f\"https://github.com/JamesOwers/ACME/raw/master/ACMEv1.0.zip\"\n",
    "download_file(url)\n",
    "unzip_file(\"ACMEv1.0.zip\")"
   ]
  },
  {
   "cell_type": "markdown",
   "metadata": {},
   "source": [
    "The dataset should now exist at a directory called `ACMEv1.0/acme`, adjacent to this notebook. The contents are as follows:\n",
    "\n",
    "* `clean` - contains the extracted clean excerpts as csv files\n",
    "* `altered` - contains the excerpts as csv files altered by the degradations described in `metadata.csv`\n",
    "\n",
    "`metadata.csv` describes:\n",
    "\n",
    "* (the id number for) the type of degradation used for the alteration\n",
    "* the path for the altered and clean files\n",
    "* which split (train, valid, test) the file should be used in\n",
    "* in which corpus csv and on what line the file is located\n",
    "\n",
    "`degradation_ids.csv` is a mapping of degradation name to the id number used in `metadata.csv`\n",
    "\n",
    "The `{train,valid,test}_cmd_corpus.csv` are command-based (note_on, note_off, shift) versions of the acme data more convenient for our provided pytorch Dataset classes available in the [MIDI Degradation Toolkit](https://github.com/JamesOwers/midi_degradation_toolkit).\n",
    "\n",
    "Similarly, `{train,valid,test}_pr_corpus.csv` are piano-roll-based versions of the acme data more convenient for our provided pytorch Dataset classes available in the [MIDI Degradation Toolkit](https://github.com/JamesOwers/midi_degradation_toolkit)."
   ]
  },
  {
   "cell_type": "code",
   "execution_count": 3,
   "metadata": {},
   "outputs": [],
   "source": [
    "acme_root = Path(\"ACMEv1.0\", \"acme\")"
   ]
  },
  {
   "cell_type": "markdown",
   "metadata": {},
   "source": [
    "# The data"
   ]
  },
  {
   "cell_type": "markdown",
   "metadata": {},
   "source": [
    "First let's look at the way the excerpts are stored as csvs. We call each of these a Note DataFrame, or a `note_df`, and they are an ordered list of the notes which have occurred in the excerpt.\n",
    "\n",
    "Here's a random clean excerpt:"
   ]
  },
  {
   "cell_type": "code",
   "execution_count": 4,
   "metadata": {},
   "outputs": [
    {
     "data": {
      "text/plain": [
       "PosixPath('ACMEv1.0/acme/clean/PPDDSep2018Monophonic/7cac1a78-4886-4c72-906c-17a2533a789a.csv')"
      ]
     },
     "execution_count": 4,
     "metadata": {},
     "output_type": "execute_result"
    }
   ],
   "source": [
    "random.seed(1337)\n",
    "rand_filepath = random.choice(list(Path(acme_root).glob(\"clean/**/*.csv\")))\n",
    "rand_filepath"
   ]
  },
  {
   "cell_type": "markdown",
   "metadata": {},
   "source": [
    "The columns are:\n",
    "1. onset time of the note in ms\n",
    "2. the track used to play the note (read: instrument)\n",
    "3. the MIDI pitch number (60 is C4)\n",
    "4. the duration of the note in ms"
   ]
  },
  {
   "cell_type": "code",
   "execution_count": 5,
   "metadata": {},
   "outputs": [
    {
     "data": {
      "text/html": [
       "<div>\n",
       "<style scoped>\n",
       "    .dataframe tbody tr th:only-of-type {\n",
       "        vertical-align: middle;\n",
       "    }\n",
       "\n",
       "    .dataframe tbody tr th {\n",
       "        vertical-align: top;\n",
       "    }\n",
       "\n",
       "    .dataframe thead th {\n",
       "        text-align: right;\n",
       "    }\n",
       "</style>\n",
       "<table border=\"1\" class=\"dataframe\">\n",
       "  <thead>\n",
       "    <tr style=\"text-align: right;\">\n",
       "      <th></th>\n",
       "      <th>onset</th>\n",
       "      <th>track</th>\n",
       "      <th>pitch</th>\n",
       "      <th>dur</th>\n",
       "    </tr>\n",
       "  </thead>\n",
       "  <tbody>\n",
       "    <tr>\n",
       "      <th>0</th>\n",
       "      <td>121</td>\n",
       "      <td>0</td>\n",
       "      <td>86</td>\n",
       "      <td>83</td>\n",
       "    </tr>\n",
       "    <tr>\n",
       "      <th>1</th>\n",
       "      <td>246</td>\n",
       "      <td>0</td>\n",
       "      <td>74</td>\n",
       "      <td>83</td>\n",
       "    </tr>\n",
       "    <tr>\n",
       "      <th>2</th>\n",
       "      <td>371</td>\n",
       "      <td>0</td>\n",
       "      <td>62</td>\n",
       "      <td>83</td>\n",
       "    </tr>\n",
       "    <tr>\n",
       "      <th>3</th>\n",
       "      <td>496</td>\n",
       "      <td>0</td>\n",
       "      <td>74</td>\n",
       "      <td>83</td>\n",
       "    </tr>\n",
       "    <tr>\n",
       "      <th>4</th>\n",
       "      <td>621</td>\n",
       "      <td>0</td>\n",
       "      <td>84</td>\n",
       "      <td>83</td>\n",
       "    </tr>\n",
       "    <tr>\n",
       "      <th>...</th>\n",
       "      <td>...</td>\n",
       "      <td>...</td>\n",
       "      <td>...</td>\n",
       "      <td>...</td>\n",
       "    </tr>\n",
       "    <tr>\n",
       "      <th>32</th>\n",
       "      <td>4496</td>\n",
       "      <td>0</td>\n",
       "      <td>77</td>\n",
       "      <td>83</td>\n",
       "    </tr>\n",
       "    <tr>\n",
       "      <th>33</th>\n",
       "      <td>4621</td>\n",
       "      <td>0</td>\n",
       "      <td>77</td>\n",
       "      <td>83</td>\n",
       "    </tr>\n",
       "    <tr>\n",
       "      <th>34</th>\n",
       "      <td>4746</td>\n",
       "      <td>0</td>\n",
       "      <td>76</td>\n",
       "      <td>83</td>\n",
       "    </tr>\n",
       "    <tr>\n",
       "      <th>35</th>\n",
       "      <td>4871</td>\n",
       "      <td>0</td>\n",
       "      <td>76</td>\n",
       "      <td>83</td>\n",
       "    </tr>\n",
       "    <tr>\n",
       "      <th>36</th>\n",
       "      <td>4996</td>\n",
       "      <td>0</td>\n",
       "      <td>74</td>\n",
       "      <td>83</td>\n",
       "    </tr>\n",
       "  </tbody>\n",
       "</table>\n",
       "<p>37 rows × 4 columns</p>\n",
       "</div>"
      ],
      "text/plain": [
       "    onset  track  pitch  dur\n",
       "0     121      0     86   83\n",
       "1     246      0     74   83\n",
       "2     371      0     62   83\n",
       "3     496      0     74   83\n",
       "4     621      0     84   83\n",
       "..    ...    ...    ...  ...\n",
       "32   4496      0     77   83\n",
       "33   4621      0     77   83\n",
       "34   4746      0     76   83\n",
       "35   4871      0     76   83\n",
       "36   4996      0     74   83\n",
       "\n",
       "[37 rows x 4 columns]"
      ]
     },
     "metadata": {},
     "output_type": "display_data"
    }
   ],
   "source": [
    "df = pd.read_csv(rand_filepath, names=[\"onset\", \"track\", \"pitch\", \"dur\"])\n",
    "with pd.option_context(\"display.max_rows\", 10):\n",
    "    display(df)"
   ]
  },
  {
   "cell_type": "code",
   "execution_count": 6,
   "metadata": {},
   "outputs": [
    {
     "data": {
      "image/png": "[encoded data removed]",
      "text/plain": [
       "<Figure size 432x288 with 1 Axes>"
      ]
     },
     "metadata": {
      "needs_background": "light"
     },
     "output_type": "display_data"
    }
   ],
   "source": [
    "plot_from_df(df)"
   ]
  },
  {
   "cell_type": "markdown",
   "metadata": {},
   "source": [
    "Each excerpt has a matching degraded version (excluding those which are not degraded!)"
   ]
  },
  {
   "cell_type": "code",
   "execution_count": 7,
   "metadata": {},
   "outputs": [
    {
     "data": {
      "text/plain": [
       "PosixPath('ACMEv1.0/acme/altered/PPDDSep2018Monophonic/7cac1a78-4886-4c72-906c-17a2533a789a.csv')"
      ]
     },
     "execution_count": 7,
     "metadata": {},
     "output_type": "execute_result"
    }
   ],
   "source": [
    "alt_path = Path(*rand_filepath.parts[:-3], \"altered\", *rand_filepath.parts[-2:])\n",
    "alt_path"
   ]
  },
  {
   "cell_type": "code",
   "execution_count": 8,
   "metadata": {},
   "outputs": [
    {
     "data": {
      "text/html": [
       "<div>\n",
       "<style scoped>\n",
       "    .dataframe tbody tr th:only-of-type {\n",
       "        vertical-align: middle;\n",
       "    }\n",
       "\n",
       "    .dataframe tbody tr th {\n",
       "        vertical-align: top;\n",
       "    }\n",
       "\n",
       "    .dataframe thead th {\n",
       "        text-align: right;\n",
       "    }\n",
       "</style>\n",
       "<table border=\"1\" class=\"dataframe\">\n",
       "  <thead>\n",
       "    <tr style=\"text-align: right;\">\n",
       "      <th></th>\n",
       "      <th>onset</th>\n",
       "      <th>track</th>\n",
       "      <th>pitch</th>\n",
       "      <th>dur</th>\n",
       "    </tr>\n",
       "  </thead>\n",
       "  <tbody>\n",
       "    <tr>\n",
       "      <th>0</th>\n",
       "      <td>121</td>\n",
       "      <td>0</td>\n",
       "      <td>86</td>\n",
       "      <td>83</td>\n",
       "    </tr>\n",
       "    <tr>\n",
       "      <th>1</th>\n",
       "      <td>246</td>\n",
       "      <td>0</td>\n",
       "      <td>74</td>\n",
       "      <td>83</td>\n",
       "    </tr>\n",
       "    <tr>\n",
       "      <th>2</th>\n",
       "      <td>371</td>\n",
       "      <td>0</td>\n",
       "      <td>62</td>\n",
       "      <td>83</td>\n",
       "    </tr>\n",
       "    <tr>\n",
       "      <th>3</th>\n",
       "      <td>496</td>\n",
       "      <td>0</td>\n",
       "      <td>74</td>\n",
       "      <td>83</td>\n",
       "    </tr>\n",
       "    <tr>\n",
       "      <th>4</th>\n",
       "      <td>621</td>\n",
       "      <td>0</td>\n",
       "      <td>84</td>\n",
       "      <td>83</td>\n",
       "    </tr>\n",
       "    <tr>\n",
       "      <th>...</th>\n",
       "      <td>...</td>\n",
       "      <td>...</td>\n",
       "      <td>...</td>\n",
       "      <td>...</td>\n",
       "    </tr>\n",
       "    <tr>\n",
       "      <th>32</th>\n",
       "      <td>4496</td>\n",
       "      <td>0</td>\n",
       "      <td>77</td>\n",
       "      <td>83</td>\n",
       "    </tr>\n",
       "    <tr>\n",
       "      <th>33</th>\n",
       "      <td>4621</td>\n",
       "      <td>0</td>\n",
       "      <td>77</td>\n",
       "      <td>83</td>\n",
       "    </tr>\n",
       "    <tr>\n",
       "      <th>34</th>\n",
       "      <td>4746</td>\n",
       "      <td>0</td>\n",
       "      <td>76</td>\n",
       "      <td>83</td>\n",
       "    </tr>\n",
       "    <tr>\n",
       "      <th>35</th>\n",
       "      <td>4871</td>\n",
       "      <td>0</td>\n",
       "      <td>76</td>\n",
       "      <td>83</td>\n",
       "    </tr>\n",
       "    <tr>\n",
       "      <th>36</th>\n",
       "      <td>4996</td>\n",
       "      <td>0</td>\n",
       "      <td>74</td>\n",
       "      <td>83</td>\n",
       "    </tr>\n",
       "  </tbody>\n",
       "</table>\n",
       "<p>37 rows × 4 columns</p>\n",
       "</div>"
      ],
      "text/plain": [
       "    onset  track  pitch  dur\n",
       "0     121      0     86   83\n",
       "1     246      0     74   83\n",
       "2     371      0     62   83\n",
       "3     496      0     74   83\n",
       "4     621      0     84   83\n",
       "..    ...    ...    ...  ...\n",
       "32   4496      0     77   83\n",
       "33   4621      0     77   83\n",
       "34   4746      0     76   83\n",
       "35   4871      0     76   83\n",
       "36   4996      0     74   83\n",
       "\n",
       "[37 rows x 4 columns]"
      ]
     },
     "metadata": {},
     "output_type": "display_data"
    },
    {
     "data": {
      "image/png": "[encoded data removed]",
      "text/plain": [
       "<Figure size 432x288 with 1 Axes>"
      ]
     },
     "metadata": {
      "needs_background": "light"
     },
     "output_type": "display_data"
    }
   ],
   "source": [
    "alt_df = pd.read_csv(alt_path, names=[\"onset\", \"track\", \"pitch\", \"dur\"])\n",
    "with pd.option_context(\"display.max_rows\", 10):\n",
    "    display(alt_df)\n",
    "plot_from_df(alt_df)"
   ]
  },
  {
   "cell_type": "markdown",
   "metadata": {},
   "source": [
    "Can you see where it has been altered?! There is only one degradation applied to each altered example."
   ]
  },
  {
   "cell_type": "markdown",
   "metadata": {},
   "source": [
    "# The metadata"
   ]
  },
  {
   "cell_type": "markdown",
   "metadata": {},
   "source": [
    "All the information about how the excerpts have been degraded is contained within `metadata.csv`. The names of the degradations are in `degredation_ids.csv`. Each row of `metadata.csv` gives the following information for each excerpt:\n",
    "* the clean and altered path (relative to the root directory),\n",
    "* a flag showing if the excerpt was degraded, and which degradation was used,\n",
    "* and the location of the data within the compressed corpus files (more on these later).\n",
    "\n",
    "These can be used by a data parser to get the required input data, labels, or target data required.\n"
   ]
  },
  {
   "cell_type": "code",
   "execution_count": 9,
   "metadata": {},
   "outputs": [
    {
     "data": {
      "text/plain": [
       "altered_csv_path      object\n",
       "degraded               int64\n",
       "degradation_id         int64\n",
       "clean_csv_path        object\n",
       "split                 object\n",
       "cmd_corpus_path       object\n",
       "cmd_corpus_line_nr     int64\n",
       "pr_corpus_path        object\n",
       "pr_corpus_line_nr      int64\n",
       "dtype: object"
      ]
     },
     "metadata": {},
     "output_type": "display_data"
    },
    {
     "data": {
      "text/html": [
       "<div>\n",
       "<style scoped>\n",
       "    .dataframe tbody tr th:only-of-type {\n",
       "        vertical-align: middle;\n",
       "    }\n",
       "\n",
       "    .dataframe tbody tr th {\n",
       "        vertical-align: top;\n",
       "    }\n",
       "\n",
       "    .dataframe thead th {\n",
       "        text-align: right;\n",
       "    }\n",
       "</style>\n",
       "<table border=\"1\" class=\"dataframe\">\n",
       "  <thead>\n",
       "    <tr style=\"text-align: right;\">\n",
       "      <th></th>\n",
       "      <th>altered_csv_path</th>\n",
       "      <th>degraded</th>\n",
       "      <th>degradation_id</th>\n",
       "      <th>clean_csv_path</th>\n",
       "      <th>split</th>\n",
       "      <th>cmd_corpus_path</th>\n",
       "      <th>cmd_corpus_line_nr</th>\n",
       "      <th>pr_corpus_path</th>\n",
       "      <th>pr_corpus_line_nr</th>\n",
       "    </tr>\n",
       "  </thead>\n",
       "  <tbody>\n",
       "    <tr>\n",
       "      <th>0</th>\n",
       "      <td>altered/PPDDSep2018Polyphonic/10e6a18b-8e05-49...</td>\n",
       "      <td>1</td>\n",
       "      <td>2</td>\n",
       "      <td>clean/PPDDSep2018Polyphonic/10e6a18b-8e05-497a...</td>\n",
       "      <td>train</td>\n",
       "      <td>train_cmd_corpus.csv</td>\n",
       "      <td>0</td>\n",
       "      <td>train_pr_corpus.csv</td>\n",
       "      <td>0</td>\n",
       "    </tr>\n",
       "    <tr>\n",
       "      <th>1</th>\n",
       "      <td>altered/PPDDSep2018Monophonic/6932d4e8-77cc-4d...</td>\n",
       "      <td>1</td>\n",
       "      <td>7</td>\n",
       "      <td>clean/PPDDSep2018Monophonic/6932d4e8-77cc-4d97...</td>\n",
       "      <td>valid</td>\n",
       "      <td>valid_cmd_corpus.csv</td>\n",
       "      <td>0</td>\n",
       "      <td>valid_pr_corpus.csv</td>\n",
       "      <td>0</td>\n",
       "    </tr>\n",
       "    <tr>\n",
       "      <th>2</th>\n",
       "      <td>altered/PPDDSep2018Monophonic/236ec542-6b2a-42...</td>\n",
       "      <td>1</td>\n",
       "      <td>5</td>\n",
       "      <td>clean/PPDDSep2018Monophonic/236ec542-6b2a-429e...</td>\n",
       "      <td>train</td>\n",
       "      <td>train_cmd_corpus.csv</td>\n",
       "      <td>1</td>\n",
       "      <td>train_pr_corpus.csv</td>\n",
       "      <td>1</td>\n",
       "    </tr>\n",
       "    <tr>\n",
       "      <th>3</th>\n",
       "      <td>altered/PPDDSep2018Polyphonic/3c22fabd-9fa8-4b...</td>\n",
       "      <td>1</td>\n",
       "      <td>1</td>\n",
       "      <td>clean/PPDDSep2018Polyphonic/3c22fabd-9fa8-4b64...</td>\n",
       "      <td>train</td>\n",
       "      <td>train_cmd_corpus.csv</td>\n",
       "      <td>2</td>\n",
       "      <td>train_pr_corpus.csv</td>\n",
       "      <td>2</td>\n",
       "    </tr>\n",
       "    <tr>\n",
       "      <th>4</th>\n",
       "      <td>altered/PPDDSep2018Monophonic/95e2154b-f824-44...</td>\n",
       "      <td>1</td>\n",
       "      <td>3</td>\n",
       "      <td>clean/PPDDSep2018Monophonic/95e2154b-f824-44c9...</td>\n",
       "      <td>test</td>\n",
       "      <td>test_cmd_corpus.csv</td>\n",
       "      <td>0</td>\n",
       "      <td>test_pr_corpus.csv</td>\n",
       "      <td>0</td>\n",
       "    </tr>\n",
       "  </tbody>\n",
       "</table>\n",
       "</div>"
      ],
      "text/plain": [
       "                                    altered_csv_path  degraded  \\\n",
       "0  altered/PPDDSep2018Polyphonic/10e6a18b-8e05-49...         1   \n",
       "1  altered/PPDDSep2018Monophonic/6932d4e8-77cc-4d...         1   \n",
       "2  altered/PPDDSep2018Monophonic/236ec542-6b2a-42...         1   \n",
       "3  altered/PPDDSep2018Polyphonic/3c22fabd-9fa8-4b...         1   \n",
       "4  altered/PPDDSep2018Monophonic/95e2154b-f824-44...         1   \n",
       "\n",
       "   degradation_id                                     clean_csv_path  split  \\\n",
       "0               2  clean/PPDDSep2018Polyphonic/10e6a18b-8e05-497a...  train   \n",
       "1               7  clean/PPDDSep2018Monophonic/6932d4e8-77cc-4d97...  valid   \n",
       "2               5  clean/PPDDSep2018Monophonic/236ec542-6b2a-429e...  train   \n",
       "3               1  clean/PPDDSep2018Polyphonic/3c22fabd-9fa8-4b64...  train   \n",
       "4               3  clean/PPDDSep2018Monophonic/95e2154b-f824-44c9...   test   \n",
       "\n",
       "        cmd_corpus_path  cmd_corpus_line_nr       pr_corpus_path  \\\n",
       "0  train_cmd_corpus.csv                   0  train_pr_corpus.csv   \n",
       "1  valid_cmd_corpus.csv                   0  valid_pr_corpus.csv   \n",
       "2  train_cmd_corpus.csv                   1  train_pr_corpus.csv   \n",
       "3  train_cmd_corpus.csv                   2  train_pr_corpus.csv   \n",
       "4   test_cmd_corpus.csv                   0   test_pr_corpus.csv   \n",
       "\n",
       "   pr_corpus_line_nr  \n",
       "0                  0  \n",
       "1                  0  \n",
       "2                  1  \n",
       "3                  2  \n",
       "4                  0  "
      ]
     },
     "execution_count": 9,
     "metadata": {},
     "output_type": "execute_result"
    }
   ],
   "source": [
    "meta_df = pd.read_csv(Path(acme_root, \"metadata.csv\"))\n",
    "display(meta_df.dtypes)\n",
    "meta_df.head()"
   ]
  },
  {
   "cell_type": "code",
   "execution_count": 10,
   "metadata": {},
   "outputs": [
    {
     "data": {
      "text/html": [
       "<div>\n",
       "<style scoped>\n",
       "    .dataframe tbody tr th:only-of-type {\n",
       "        vertical-align: middle;\n",
       "    }\n",
       "\n",
       "    .dataframe tbody tr th {\n",
       "        vertical-align: top;\n",
       "    }\n",
       "\n",
       "    .dataframe thead th {\n",
       "        text-align: right;\n",
       "    }\n",
       "</style>\n",
       "<table border=\"1\" class=\"dataframe\">\n",
       "  <thead>\n",
       "    <tr style=\"text-align: right;\">\n",
       "      <th></th>\n",
       "      <th>degradation_name</th>\n",
       "    </tr>\n",
       "    <tr>\n",
       "      <th>id</th>\n",
       "      <th></th>\n",
       "    </tr>\n",
       "  </thead>\n",
       "  <tbody>\n",
       "    <tr>\n",
       "      <th>0</th>\n",
       "      <td>none</td>\n",
       "    </tr>\n",
       "    <tr>\n",
       "      <th>1</th>\n",
       "      <td>pitch_shift</td>\n",
       "    </tr>\n",
       "    <tr>\n",
       "      <th>2</th>\n",
       "      <td>time_shift</td>\n",
       "    </tr>\n",
       "    <tr>\n",
       "      <th>3</th>\n",
       "      <td>onset_shift</td>\n",
       "    </tr>\n",
       "    <tr>\n",
       "      <th>4</th>\n",
       "      <td>offset_shift</td>\n",
       "    </tr>\n",
       "    <tr>\n",
       "      <th>5</th>\n",
       "      <td>remove_note</td>\n",
       "    </tr>\n",
       "    <tr>\n",
       "      <th>6</th>\n",
       "      <td>add_note</td>\n",
       "    </tr>\n",
       "    <tr>\n",
       "      <th>7</th>\n",
       "      <td>split_note</td>\n",
       "    </tr>\n",
       "    <tr>\n",
       "      <th>8</th>\n",
       "      <td>join_notes</td>\n",
       "    </tr>\n",
       "  </tbody>\n",
       "</table>\n",
       "</div>"
      ],
      "text/plain": [
       "   degradation_name\n",
       "id                 \n",
       "0              none\n",
       "1       pitch_shift\n",
       "2        time_shift\n",
       "3       onset_shift\n",
       "4      offset_shift\n",
       "5       remove_note\n",
       "6          add_note\n",
       "7        split_note\n",
       "8        join_notes"
      ]
     },
     "execution_count": 10,
     "metadata": {},
     "output_type": "execute_result"
    }
   ],
   "source": [
    "deg_df = pd.read_csv(Path(acme_root, \"degradation_ids.csv\"), index_col=\"id\")\n",
    "deg_df"
   ]
  },
  {
   "cell_type": "markdown",
   "metadata": {},
   "source": [
    "For example, taking a few random rows from the metadata:"
   ]
  },
  {
   "cell_type": "code",
   "execution_count": 11,
   "metadata": {},
   "outputs": [
    {
     "data": {
      "text/plain": [
       "[20242, 17474, 11988, 18709]"
      ]
     },
     "execution_count": 11,
     "metadata": {},
     "output_type": "execute_result"
    }
   ],
   "source": [
    "random.seed(1337)\n",
    "idx_sample = random.sample(range(len(meta_df)), 4)\n",
    "idx_sample"
   ]
  },
  {
   "cell_type": "code",
   "execution_count": 12,
   "metadata": {},
   "outputs": [
    {
     "data": {
      "image/png": "[encoded data removed]",
      "text/plain": [
       "<Figure size 864x288 with 2 Axes>"
      ]
     },
     "metadata": {
      "needs_background": "light"
     },
     "output_type": "display_data"
    },
    {
     "data": {
      "image/png": "[encoded data removed]",
      "text/plain": [
       "<Figure size 864x288 with 2 Axes>"
      ]
     },
     "metadata": {
      "needs_background": "light"
     },
     "output_type": "display_data"
    },
    {
     "data": {
      "image/png": "[encoded data removed]",
      "text/plain": [
       "<Figure size 864x288 with 2 Axes>"
      ]
     },
     "metadata": {
      "needs_background": "light"
     },
     "output_type": "display_data"
    },
    {
     "data": {
      "image/png": "[encoded data removed]",
      "text/plain": [
       "<Figure size 864x288 with 2 Axes>"
      ]
     },
     "metadata": {
      "needs_background": "light"
     },
     "output_type": "display_data"
    }
   ],
   "source": [
    "def inspect_by_index(idx, meta_df):\n",
    "    excerpt_meta = meta_df.loc[idx]\n",
    "    deg_name = deg_df.loc[excerpt_meta.degradation_id, \"degradation_name\"]\n",
    "    clean_path = acme_root / Path(excerpt_meta[\"clean_csv_path\"])\n",
    "    alt_path = acme_root / Path(excerpt_meta[\"altered_csv_path\"])\n",
    "    clean_df = csv_to_df(clean_path)\n",
    "    alt_df = csv_to_df(alt_path)\n",
    "    fig, (ax0, ax1) = plt.subplots(1, 2, figsize=(12, 4), sharex=True, sharey=True)\n",
    "    plot_from_df(clean_df, ax=ax0)\n",
    "    ax0.set_title(\"clean\")\n",
    "    plot_from_df(alt_df, ax=ax1)\n",
    "    ax1.set_title(\"altered\")\n",
    "    title = f\"Degradataion: {deg_name}, excerpt index: {idx}\"\n",
    "    plt.suptitle(title)\n",
    "    plt.tight_layout()\n",
    "\n",
    "\n",
    "for idx in idx_sample:\n",
    "    inspect_by_index(idx, meta_df)"
   ]
  },
  {
   "cell_type": "markdown",
   "metadata": {},
   "source": [
    "# Details to note and summary statistics"
   ]
  },
  {
   "cell_type": "markdown",
   "metadata": {},
   "source": [
    "Most details are included in the paper in section 3. But we outline details here too."
   ]
  },
  {
   "cell_type": "markdown",
   "metadata": {},
   "source": [
    "* all excerpts are approximately 5 seconds long\n",
    "\n",
    "* the onset time for the excerpt doesn't match the file it was taken from,\n",
    "* but the onset times of the clean and altered examples are aligned\n",
    "* a random amount of silence was added to the start of each excerpt to allow for the first note to be degraded\n",
    "* an equal proportion of all the degradations"
   ]
  },
  {
   "cell_type": "code",
   "execution_count": 13,
   "metadata": {},
   "outputs": [
    {
     "name": "stderr",
     "output_type": "stream",
     "text": [
      "100%|██████████| 22514/22514 [01:04<00:00, 349.07it/s]\n",
      "100%|██████████| 22514/22514 [01:03<00:00, 354.94it/s]\n"
     ]
    }
   ],
   "source": [
    "all_clean_df = [\n",
    "    csv_to_df(acme_root / Path(path)) for path in tqdm(meta_df.clean_csv_path)\n",
    "]\n",
    "# N.B. this includes clean dfs if deg is None\n",
    "all_alt_df = [\n",
    "    csv_to_df(acme_root / Path(path)) for path in tqdm(meta_df.altered_csv_path)\n",
    "]"
   ]
  },
  {
   "cell_type": "markdown",
   "metadata": {},
   "source": [
    "## Initial onset time"
   ]
  },
  {
   "cell_type": "markdown",
   "metadata": {},
   "source": [
    "The inital onsets are uniformly distributed between 0 and 200 ms"
   ]
  },
  {
   "cell_type": "code",
   "execution_count": 14,
   "metadata": {},
   "outputs": [
    {
     "name": "stderr",
     "output_type": "stream",
     "text": [
      "100%|██████████| 22514/22514 [00:02<00:00, 10947.90it/s]\n",
      "100%|██████████| 22514/22514 [00:01<00:00, 12343.69it/s]\n"
     ]
    }
   ],
   "source": [
    "clean_first_onsets = [df.at[0, \"onset\"] for df in tqdm(all_clean_df)]\n",
    "alt_first_onsets = [df.at[0, \"onset\"] for df in tqdm(all_alt_df)]"
   ]
  },
  {
   "cell_type": "code",
   "execution_count": 15,
   "metadata": {},
   "outputs": [
    {
     "data": {
      "image/png": "[encoded data removed]",
      "text/plain": [
       "<Figure size 432x288 with 1 Axes>"
      ]
     },
     "metadata": {
      "needs_background": "light"
     },
     "output_type": "display_data"
    }
   ],
   "source": [
    "sns.distplot(clean_first_onsets)\n",
    "plt.title(f\"min: {min(clean_first_onsets)}, max: {max(clean_first_onsets)}\")\n",
    "plt.xlabel(\"first onset time (ms)\")\n",
    "plt.show()"
   ]
  },
  {
   "cell_type": "markdown",
   "metadata": {},
   "source": [
    "For each excerpt, if we observe the difference between the first onsets, we see they are normally the same, but that some degradations alter the first note in some way, causing a difference."
   ]
  },
  {
   "cell_type": "code",
   "execution_count": 16,
   "metadata": {},
   "outputs": [],
   "source": [
    "diff_first_onsets = [\n",
    "    alt - clean for alt, clean in zip(alt_first_onsets, clean_first_onsets)\n",
    "]"
   ]
  },
  {
   "cell_type": "code",
   "execution_count": 17,
   "metadata": {},
   "outputs": [
    {
     "data": {
      "image/png": "[encoded data removed]",
      "text/plain": [
       "<Figure size 432x288 with 1 Axes>"
      ]
     },
     "metadata": {
      "needs_background": "light"
     },
     "output_type": "display_data"
    }
   ],
   "source": [
    "sns.countplot([diff == 0 for diff in diff_first_onsets])\n",
    "plt.xlabel(\"Clean and altered excerpts have the same first onset\")\n",
    "plt.show()"
   ]
  },
  {
   "cell_type": "code",
   "execution_count": 18,
   "metadata": {},
   "outputs": [
    {
     "data": {
      "image/png": "[encoded data removed]",
      "text/plain": [
       "<Figure size 432x288 with 1 Axes>"
      ]
     },
     "metadata": {
      "needs_background": "light"
     },
     "output_type": "display_data"
    }
   ],
   "source": [
    "sns.distplot(diff_first_onsets)\n",
    "plt.title(f\"min: {min(diff_first_onsets)}, max: {max(diff_first_onsets)}\")\n",
    "plt.xlabel(\"alt first onset - clean first onset\")\n",
    "plt.show()"
   ]
  },
  {
   "cell_type": "code",
   "execution_count": 19,
   "metadata": {},
   "outputs": [
    {
     "name": "stdout",
     "output_type": "stream",
     "text": [
      "There are 527 examples where the onset time of the clean and altered excerpt are not the same\n"
     ]
    },
    {
     "data": {
      "image/png": "[encoded data removed]",
      "text/plain": [
       "<Figure size 432x288 with 1 Axes>"
      ]
     },
     "metadata": {
      "needs_background": "light"
     },
     "output_type": "display_data"
    }
   ],
   "source": [
    "nonzero_diffs = [diff for diff in diff_first_onsets if diff != 0]\n",
    "print(\n",
    "    f\"There are {len(nonzero_diffs)} examples where the onset time of the \"\n",
    "    \"clean and altered excerpt are not the same\"\n",
    ")\n",
    "sns.distplot(nonzero_diffs)\n",
    "plt.title(f\"min: {min(nonzero_diffs)}, max: {max(nonzero_diffs)}\")\n",
    "plt.xlabel(\"alt first onset - clean first onset (non-zero only)\")\n",
    "plt.show()"
   ]
  },
  {
   "cell_type": "markdown",
   "metadata": {},
   "source": [
    "Let's have a look at the most extreme examples where then onset of the clean and altered versions differ the most."
   ]
  },
  {
   "cell_type": "code",
   "execution_count": 20,
   "metadata": {},
   "outputs": [],
   "source": [
    "def argmax(sequence):\n",
    "    _, idx = max((val, idx) for idx, val in enumerate(sequence))\n",
    "    return idx\n",
    "\n",
    "\n",
    "def argmin(sequence):\n",
    "    _, idx = min((val, idx) for idx, val in enumerate(sequence))\n",
    "    return idx"
   ]
  },
  {
   "cell_type": "code",
   "execution_count": 21,
   "metadata": {},
   "outputs": [
    {
     "data": {
      "image/png": "[encoded data removed]",
      "text/plain": [
       "<Figure size 864x288 with 2 Axes>"
      ]
     },
     "metadata": {
      "needs_background": "light"
     },
     "output_type": "display_data"
    }
   ],
   "source": [
    "inspect_by_index(argmax(diff_first_onsets), meta_df)"
   ]
  },
  {
   "cell_type": "code",
   "execution_count": 22,
   "metadata": {},
   "outputs": [
    {
     "data": {
      "image/png": "[encoded data removed]",
      "text/plain": [
       "<Figure size 864x288 with 2 Axes>"
      ]
     },
     "metadata": {
      "needs_background": "light"
     },
     "output_type": "display_data"
    }
   ],
   "source": [
    "inspect_by_index(argmin(diff_first_onsets), meta_df)"
   ]
  },
  {
   "cell_type": "code",
   "execution_count": 23,
   "metadata": {},
   "outputs": [],
   "source": [
    "nonzero_diff_idx = [idx for idx, diff in enumerate(diff_first_onsets) if diff != 0]"
   ]
  },
  {
   "cell_type": "code",
   "execution_count": 24,
   "metadata": {},
   "outputs": [],
   "source": [
    "meta_df[\"degradation_str\"] = meta_df.degradation_id.apply(lambda x: deg_df.loc[x])"
   ]
  },
  {
   "cell_type": "code",
   "execution_count": 25,
   "metadata": {},
   "outputs": [
    {
     "data": {
      "image/png": "[encoded data removed]",
      "text/plain": [
       "<Figure size 432x288 with 1 Axes>"
      ]
     },
     "metadata": {
      "needs_background": "light"
     },
     "output_type": "display_data"
    }
   ],
   "source": [
    "sns.countplot(meta_df.loc[nonzero_diff_idx, \"degradation_str\"])\n",
    "plt.title(\"Degradation types which cause nonzero onset differences\")\n",
    "plt.show()"
   ]
  },
  {
   "cell_type": "markdown",
   "metadata": {},
   "source": [
    "## Excerpt lengths"
   ]
  },
  {
   "cell_type": "markdown",
   "metadata": {},
   "source": [
    "The code for selecting excerpts from a whole piece is `mdtk.df_utils.get_random_excerpt`.\n",
    "\n",
    "By default, and as used for ACMEv1.0, we select an  ~5 second excerpt from each piece by choosing a random note and all notes beginning in the subsequent 5 seconds, but require that at least 10 notes be present. The excerpt ends when the last held note is released.\n",
    "\n",
    "As such, if there are notes held for a long time, or if there are relatively few notes within the selected 5 second window, the excerpt may be longer or shorter than 5 seconds respectively."
   ]
  },
  {
   "cell_type": "code",
   "execution_count": 26,
   "metadata": {},
   "outputs": [
    {
     "data": {
      "text/plain": [
       "\u001b[0;31mSignature:\u001b[0m\n",
       "\u001b[0mmdtk\u001b[0m\u001b[0;34m.\u001b[0m\u001b[0mdf_utils\u001b[0m\u001b[0;34m.\u001b[0m\u001b[0mget_random_excerpt\u001b[0m\u001b[0;34m(\u001b[0m\u001b[0;34m\u001b[0m\n",
       "\u001b[0;34m\u001b[0m    \u001b[0mnote_df\u001b[0m\u001b[0;34m,\u001b[0m\u001b[0;34m\u001b[0m\n",
       "\u001b[0;34m\u001b[0m    \u001b[0mmin_notes\u001b[0m\u001b[0;34m=\u001b[0m\u001b[0;36m10\u001b[0m\u001b[0;34m,\u001b[0m\u001b[0;34m\u001b[0m\n",
       "\u001b[0;34m\u001b[0m    \u001b[0mexcerpt_length\u001b[0m\u001b[0;34m=\u001b[0m\u001b[0;36m5000\u001b[0m\u001b[0;34m,\u001b[0m\u001b[0;34m\u001b[0m\n",
       "\u001b[0;34m\u001b[0m    \u001b[0mfirst_onset_range\u001b[0m\u001b[0;34m=\u001b[0m\u001b[0;34m(\u001b[0m\u001b[0;36m0\u001b[0m\u001b[0;34m,\u001b[0m \u001b[0;36m200\u001b[0m\u001b[0;34m)\u001b[0m\u001b[0;34m,\u001b[0m\u001b[0;34m\u001b[0m\n",
       "\u001b[0;34m\u001b[0m    \u001b[0miterations\u001b[0m\u001b[0;34m=\u001b[0m\u001b[0;36m10\u001b[0m\u001b[0;34m,\u001b[0m\u001b[0;34m\u001b[0m\n",
       "\u001b[0;34m\u001b[0m\u001b[0;34m)\u001b[0m\u001b[0;34m\u001b[0m\u001b[0;34m\u001b[0m\u001b[0m\n",
       "\u001b[0;31mDocstring:\u001b[0m\n",
       "Take a random excerpt from the given note_df, using np.random. The excerpt\n",
       "is created as follows:\n",
       "\n",
       "1. Pick a note at random from the input df, excluding the last `min_notes`\n",
       "   notes.\n",
       "2. Take all notes which onset within `excerpt_length` ms of that note.\n",
       "3. If the excerpt does not contain at least `min_notes` notes, repeat steps\n",
       "   1 and 2 until you have drawn `iterations` invalid excerpts. In that\n",
       "   case, return None.\n",
       "4. If you have a valid excerpt, shift its notes so that the first note's\n",
       "   onset is at time 0, then add a random number within `first_onset_range`\n",
       "   to each onset.\n",
       "5. Return the resulting excerpt.\n",
       "\n",
       "Parameters\n",
       "----------\n",
       "note_df : pd.DataFrame\n",
       "    The input note_df, from which we want a random excerpt.\n",
       "\n",
       "min_notes : int\n",
       "    The minimum number of notes that must be contained in a valid excerpt.\n",
       "\n",
       "excerpt_length : int\n",
       "    The length of the resulting excerpt, in ms. All notes which onset\n",
       "    within this amount of time after a randomly chosen note will be\n",
       "    included in the returned excerpt.\n",
       "\n",
       "first_onset_range : tuple(int, int)\n",
       "    The range from which to draw a random number to add to the first note's\n",
       "    onset (in ms), rather than having the chosen excerpt begin at time 0.\n",
       "\n",
       "iterations : int\n",
       "    How many times to try to obtain a valid excerpt before giving up and\n",
       "    returning None.\n",
       "\n",
       "Returns\n",
       "-------\n",
       "excerpt : pd.DataFrame\n",
       "    A random excerpt from the given note_df. None if no valid excerpt was\n",
       "    found within `iterations` attempts.\n",
       "\u001b[0;31mFile:\u001b[0m      ~/git/midi_degradation_toolkit/mdtk/df_utils.py\n",
       "\u001b[0;31mType:\u001b[0m      function\n"
      ]
     },
     "metadata": {},
     "output_type": "display_data"
    }
   ],
   "source": [
    "?mdtk.df_utils.get_random_excerpt"
   ]
  },
  {
   "cell_type": "code",
   "execution_count": 27,
   "metadata": {},
   "outputs": [
    {
     "name": "stderr",
     "output_type": "stream",
     "text": [
      "100%|██████████| 22514/22514 [00:03<00:00, 5941.44it/s]\n",
      "100%|██████████| 22514/22514 [00:04<00:00, 5444.11it/s]\n"
     ]
    }
   ],
   "source": [
    "clean_last_offsets = [(df[\"onset\"] + df[\"dur\"]).max() for df in tqdm(all_clean_df)]\n",
    "alt_last_offsets = [(df[\"onset\"] + df[\"dur\"]).max() for df in tqdm(all_alt_df)]"
   ]
  },
  {
   "cell_type": "code",
   "execution_count": 28,
   "metadata": {},
   "outputs": [],
   "source": [
    "clean_dur = [\n",
    "    last_off - first_on for first_on, last_off in \n",
    "    zip(clean_first_onsets, clean_last_offsets)\n",
    "]"
   ]
  },
  {
   "cell_type": "code",
   "execution_count": 29,
   "metadata": {},
   "outputs": [
    {
     "data": {
      "image/png": "[encoded data removed]",
      "text/plain": [
       "<Figure size 432x288 with 1 Axes>"
      ]
     },
     "metadata": {
      "needs_background": "light"
     },
     "output_type": "display_data"
    }
   ],
   "source": [
    "sns.distplot(clean_dur)\n",
    "plt.title(f\"min: {min(clean_dur)}, max: {max(clean_dur)}\")\n",
    "plt.xlabel(\"excerpt duration (ms)\")\n",
    "plt.show()"
   ]
  },
  {
   "cell_type": "code",
   "execution_count": 30,
   "metadata": {},
   "outputs": [
    {
     "data": {
      "image/png": "[encoded data removed]",
      "text/plain": [
       "<Figure size 864x288 with 2 Axes>"
      ]
     },
     "metadata": {
      "needs_background": "light"
     },
     "output_type": "display_data"
    }
   ],
   "source": [
    "inspect_by_index(argmax(clean_dur), meta_df)"
   ]
  },
  {
   "cell_type": "code",
   "execution_count": 31,
   "metadata": {},
   "outputs": [
    {
     "data": {
      "image/png": "[encoded data removed]",
      "text/plain": [
       "<Figure size 864x288 with 2 Axes>"
      ]
     },
     "metadata": {
      "needs_background": "light"
     },
     "output_type": "display_data"
    }
   ],
   "source": [
    "inspect_by_index(argmin(clean_dur), meta_df)"
   ]
  },
  {
   "cell_type": "markdown",
   "metadata": {},
   "source": [
    "# Compressed data for modelling"
   ]
  },
  {
   "cell_type": "markdown",
   "metadata": {},
   "source": [
    "We have also provided data in two other formats - piano roll and command format. We detail these in a subsequent notebook: [04_data_parsers_and_degrader.ipynb](./04_data_parsers_and_degrader.ipynb)."
   ]
  }
 ],
 "metadata": {
  "kernelspec": {
   "display_name": "Python 3",
   "language": "python",
   "name": "python3"
  },
  "language_info": {
   "codemirror_mode": {
    "name": "ipython",
    "version": 3
   },
   "file_extension": ".py",
   "mimetype": "text/x-python",
   "name": "python",
   "nbconvert_exporter": "python",
   "pygments_lexer": "ipython3",
   "version": "3.8.5"
  },
  "toc": {
   "base_numbering": 1,
   "nav_menu": {},
   "number_sections": true,
   "sideBar": true,
   "skip_h1_title": false,
   "title_cell": "Table of Contents",
   "title_sidebar": "Contents",
   "toc_cell": true,
   "toc_position": {},
   "toc_section_display": true,
   "toc_window_display": false
  },
  "toc-autonumbering": false,
  "toc-showtags": false
 },
 "nbformat": 4,
 "nbformat_minor": 4
}
